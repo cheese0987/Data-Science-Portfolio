{
  "nbformat": 4,
  "nbformat_minor": 0,
  "metadata": {
    "colab": {
      "provenance": []
    },
    "kernelspec": {
      "name": "python3",
      "display_name": "Python 3"
    },
    "language_info": {
      "name": "python"
    }
  },
  "cells": [
    {
      "cell_type": "code",
      "execution_count": null,
      "metadata": {
        "id": "tu-Bu6sBjqSr"
      },
      "outputs": [],
      "source": [
        "%load_ext autoreload\n",
        "%autoreload 2\n",
        "%matplotlib inline"
      ]
    },
    {
      "cell_type": "code",
      "source": [
        "# Imports\n",
        "import numpy as np\n",
        "import random"
      ],
      "metadata": {
        "id": "_hm_5fK6jyGk"
      },
      "execution_count": null,
      "outputs": []
    },
    {
      "cell_type": "markdown",
      "source": [
        "> This notebook will talk about several ways of generating random numbers using several Python libraries such as random, numpy, etc.\n",
        "We will also talk a bit about how seeds work and why they are important when doing data science projects!"
      ],
      "metadata": {
        "id": "vAMp_2Q8kEtj"
      }
    },
    {
      "cell_type": "markdown",
      "source": [
        "## Using the `random` module"
      ],
      "metadata": {
        "id": "Jx4HiO0Skbm7"
      }
    },
    {
      "cell_type": "markdown",
      "source": [
        "The pseudo-random number generator function random(), which generates a random float number between 0.0 and 1.0, is used by functions in the random module. Many games, lotteries, and other applications needing random number creation use this specific type of function."
      ],
      "metadata": {
        "id": "X11YcYHbktL-"
      }
    },
    {
      "cell_type": "code",
      "source": [
        "num = random.random()\n",
        "num"
      ],
      "metadata": {
        "colab": {
          "base_uri": "https://localhost:8080/"
        },
        "id": "9kbqRD8_j1H1",
        "outputId": "d7fc2534-04cf-40f2-ea1d-635385b02bd6"
      },
      "execution_count": null,
      "outputs": [
        {
          "output_type": "execute_result",
          "data": {
            "text/plain": [
              "0.9828052927616455"
            ]
          },
          "metadata": {},
          "execution_count": 5
        }
      ]
    },
    {
      "cell_type": "code",
      "source": [
        "# Selecting a random entry from a given list\n",
        "l1 = [1,2,3,'turtle',5.3]\n",
        "random.choice(l1)"
      ],
      "metadata": {
        "colab": {
          "base_uri": "https://localhost:8080/"
        },
        "id": "D9SFZWsUkx3i",
        "outputId": "3d7d0c9b-d1fe-4eac-808c-4ec4d707e680"
      },
      "execution_count": null,
      "outputs": [
        {
          "output_type": "execute_result",
          "data": {
            "text/plain": [
              "1"
            ]
          },
          "metadata": {},
          "execution_count": 8
        }
      ]
    },
    {
      "cell_type": "code",
      "source": [
        "# Selecting a random character from a string\n",
        "s = \"CMPUT 200\"\n",
        "random.choice(s)"
      ],
      "metadata": {
        "colab": {
          "base_uri": "https://localhost:8080/",
          "height": 35
        },
        "id": "FEef_EUYlCNH",
        "outputId": "f6057991-e3b5-4b79-c779-796e654d2147"
      },
      "execution_count": null,
      "outputs": [
        {
          "output_type": "execute_result",
          "data": {
            "text/plain": [
              "'M'"
            ],
            "application/vnd.google.colaboratory.intrinsic+json": {
              "type": "string"
            }
          },
          "metadata": {},
          "execution_count": 17
        }
      ]
    },
    {
      "cell_type": "code",
      "source": [
        "# Generating random number lists based in a given range and step size\n",
        "random.randrange(20, 50, 3)"
      ],
      "metadata": {
        "colab": {
          "base_uri": "https://localhost:8080/"
        },
        "id": "_duxOO74lMhI",
        "outputId": "717aaf6d-df7c-441f-ba98-ea5791c5b45d"
      },
      "execution_count": null,
      "outputs": [
        {
          "output_type": "execute_result",
          "data": {
            "text/plain": [
              "23"
            ]
          },
          "metadata": {},
          "execution_count": 18
        }
      ]
    },
    {
      "cell_type": "code",
      "source": [
        "# Generating random numbers using a seed value\n",
        "# A seed value helps to reproduce experiments whenever someone else tries to run them and helps less deviation in the results\n",
        "random.seed(7)\n",
        "random.random()"
      ],
      "metadata": {
        "colab": {
          "base_uri": "https://localhost:8080/"
        },
        "id": "j8RR8fx4oSdD",
        "outputId": "38094c47-5e5e-40d4-adc3-1bdf552c9289"
      },
      "execution_count": null,
      "outputs": [
        {
          "output_type": "execute_result",
          "data": {
            "text/plain": [
              "0.32383276483316237"
            ]
          },
          "metadata": {},
          "execution_count": 22
        }
      ]
    },
    {
      "cell_type": "code",
      "source": [
        "# Shuffling lists in Python\n",
        "random.shuffle(l1)\n",
        "l1"
      ],
      "metadata": {
        "colab": {
          "base_uri": "https://localhost:8080/"
        },
        "id": "UH3B0mDUo6oh",
        "outputId": "d28ce073-5067-40ed-8de0-99c4ba724e9f"
      },
      "execution_count": null,
      "outputs": [
        {
          "output_type": "execute_result",
          "data": {
            "text/plain": [
              "[1, 3, 5.3, 'turtle', 2]"
            ]
          },
          "metadata": {},
          "execution_count": 26
        }
      ]
    },
    {
      "cell_type": "code",
      "source": [
        "# Generating random numbers using a uniform distribution in a specific range\n",
        "print(random.uniform(5, 10))"
      ],
      "metadata": {
        "colab": {
          "base_uri": "https://localhost:8080/"
        },
        "id": "L2W439mXpF87",
        "outputId": "e8771b0a-c98b-4494-8b38-de3853da280a"
      },
      "execution_count": null,
      "outputs": [
        {
          "output_type": "stream",
          "name": "stdout",
          "text": [
            "5.362181433337714\n"
          ]
        }
      ]
    },
    {
      "cell_type": "markdown",
      "source": [
        "## Using `numpy` for random numbers"
      ],
      "metadata": {
        "id": "pfDXlInqpgs_"
      }
    },
    {
      "cell_type": "code",
      "source": [
        "# Generating a list of random numbers using numpy\n",
        "np.random.seed(42)\n",
        "np.random.random(size=5)"
      ],
      "metadata": {
        "id": "GKXE3DlqpZVD",
        "colab": {
          "base_uri": "https://localhost:8080/"
        },
        "outputId": "34ab1ac5-d0b0-402c-e601-53e0f2bbb4ed"
      },
      "execution_count": null,
      "outputs": [
        {
          "output_type": "execute_result",
          "data": {
            "text/plain": [
              "array([0.37454012, 0.95071431, 0.73199394, 0.59865848, 0.15601864])"
            ]
          },
          "metadata": {},
          "execution_count": 31
        }
      ]
    },
    {
      "cell_type": "code",
      "source": [
        "# How do we use this for our applications?\n",
        "# Let's simulate an example of 100 coin flips where getting a random number <0.5 counts as heads\n",
        "# Here we'll try to count the number of heads\n",
        "heads = np.random.random(size = 100) < 0.5\n",
        "print(f\"The array with heads or not is represented as:\\n{heads}\")\n",
        "n_heads = np.sum(heads)\n",
        "print(f\"\\nThe number of heads generated is: {n_heads}\")"
      ],
      "metadata": {
        "id": "ceh0kMqxp6Uk",
        "colab": {
          "base_uri": "https://localhost:8080/"
        },
        "outputId": "1310f950-a665-4c81-9fae-3bdfcbe456de"
      },
      "execution_count": null,
      "outputs": [
        {
          "output_type": "stream",
          "name": "stdout",
          "text": [
            "The array with heads or not is represented as:\n",
            "[ True  True False  True  True False False False  True False  True  True\n",
            " False False False False False  True  True  True  True False  True False\n",
            " False False False False  True  True False  True  True False  True False\n",
            " False False  True  True False  True False False False  True  True False\n",
            "  True  True False False False False  True False False  True False False\n",
            " False False False  True  True False False False False False False False\n",
            " False False False False  True  True  True False  True  True False  True\n",
            " False  True  True False  True  True False False  True False  True  True\n",
            " False False False False]\n",
            "\n",
            "The number of heads generated is: 41\n"
          ]
        }
      ]
    },
    {
      "cell_type": "code",
      "source": [
        "# Using the new default_rng module in numpy\n",
        "# The default_rng is a module which you can generate with a specific seed to improve reproducibility of your experiments\n",
        "rng = np.random.default_rng(seed = 42)\n",
        "print(rng)"
      ],
      "metadata": {
        "colab": {
          "base_uri": "https://localhost:8080/"
        },
        "id": "eoTcu8rFqy1w",
        "outputId": "b0d045d4-2b59-4812-fcf5-f65fc237e2c4"
      },
      "execution_count": null,
      "outputs": [
        {
          "output_type": "stream",
          "name": "stdout",
          "text": [
            "Generator(PCG64)\n"
          ]
        }
      ]
    },
    {
      "cell_type": "markdown",
      "source": [
        ">PCG64 is the 128-bit implementation of O’Neill’s permutation congruential generator (https://www.pcg-random.org/)"
      ],
      "metadata": {
        "id": "Vw_B4pw5sCGK"
      }
    },
    {
      "cell_type": "code",
      "source": [
        "# Generating random floats using our number generator now\n",
        "rng = np.random.default_rng(seed = 42)\n",
        "rng.random()"
      ],
      "metadata": {
        "colab": {
          "base_uri": "https://localhost:8080/"
        },
        "id": "HvY49-tZr3Ao",
        "outputId": "d90eea7d-277e-4382-8f4e-1ef34a404b69"
      },
      "execution_count": null,
      "outputs": [
        {
          "output_type": "execute_result",
          "data": {
            "text/plain": [
              "0.7739560485559633"
            ]
          },
          "metadata": {},
          "execution_count": 39
        }
      ]
    },
    {
      "cell_type": "code",
      "source": [
        "# Generating random integers given a range\n",
        "rng = np.random.default_rng(seed = 42)\n",
        "rng.integers(low=40, high=50, size=6)"
      ],
      "metadata": {
        "colab": {
          "base_uri": "https://localhost:8080/"
        },
        "id": "G2_4Flb7sUhU",
        "outputId": "dc6eebc6-bdbb-4b50-e2ba-fedd93373994"
      },
      "execution_count": null,
      "outputs": [
        {
          "output_type": "execute_result",
          "data": {
            "text/plain": [
              "array([40, 47, 46, 44, 44, 48])"
            ]
          },
          "metadata": {},
          "execution_count": 40
        }
      ]
    },
    {
      "cell_type": "code",
      "source": [
        "# Creating n-dimensional integer arrays using the same function\n",
        "rng = np.random.default_rng(seed = 42)\n",
        "rng.integers(low=40, high=50, size= (6,6))"
      ],
      "metadata": {
        "colab": {
          "base_uri": "https://localhost:8080/"
        },
        "id": "IcFnriY_tScP",
        "outputId": "6ab9ccd6-2eb2-4af4-ff8f-f8c355cb8c5d"
      },
      "execution_count": null,
      "outputs": [
        {
          "output_type": "execute_result",
          "data": {
            "text/plain": [
              "array([[40, 47, 46, 44, 44, 48],\n",
              "       [40, 46, 42, 40, 45, 49],\n",
              "       [47, 47, 47, 47, 45, 41],\n",
              "       [48, 44, 45, 43, 41, 49],\n",
              "       [47, 46, 44, 48, 45, 44],\n",
              "       [44, 42, 40, 45, 48, 40]])"
            ]
          },
          "metadata": {},
          "execution_count": 41
        }
      ]
    },
    {
      "cell_type": "code",
      "source": [
        "# Since we have the seed specified the random generation is easy\n",
        "rng = np.random.default_rng(seed=42)\n",
        "arr1 = rng.random((3, 3))\n",
        "arr1"
      ],
      "metadata": {
        "id": "jnRjoTNzsdl2",
        "colab": {
          "base_uri": "https://localhost:8080/"
        },
        "outputId": "a1bd336a-3ce0-41b5-9011-33b4567e7f19"
      },
      "execution_count": null,
      "outputs": [
        {
          "output_type": "execute_result",
          "data": {
            "text/plain": [
              "array([[0.77395605, 0.43887844, 0.85859792],\n",
              "       [0.69736803, 0.09417735, 0.97562235],\n",
              "       [0.7611397 , 0.78606431, 0.12811363]])"
            ]
          },
          "metadata": {},
          "execution_count": 43
        }
      ]
    },
    {
      "cell_type": "code",
      "source": [],
      "metadata": {
        "id": "bdrJZ6OwaZJV"
      },
      "execution_count": null,
      "outputs": []
    }
  ]
}