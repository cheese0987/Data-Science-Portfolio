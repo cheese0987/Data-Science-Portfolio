{
  "nbformat": 4,
  "nbformat_minor": 0,
  "metadata": {
    "kernelspec": {
      "display_name": "Python 3",
      "language": "python",
      "name": "python3"
    },
    "language_info": {
      "codemirror_mode": {
        "name": "ipython",
        "version": 3
      },
      "file_extension": ".py",
      "mimetype": "text/x-python",
      "name": "python",
      "nbconvert_exporter": "python",
      "pygments_lexer": "ipython3",
      "version": "3.6.8"
    },
    "colab": {
      "provenance": []
    }
  },
  "cells": [
    {
      "cell_type": "markdown",
      "metadata": {
        "id": "eJ4bKo_ZpHHY"
      },
      "source": [
        "## Python\n",
        "\n",
        "\n",
        "For this lab and much of machine learning, we will use Python for its ease of understanding and large library ecosystem. Let's briefly go over Python syntax and features.\n",
        "\n",
        "Python is an [imperative language](https://en.wikipedia.org/wiki/Imperative_programming) based on statements. That is, programs in Python consists of lines composed of statements. Among other things, a statement can be:\n",
        "* a single expression, e.g. `5 + 5`\n",
        "* an assignment, e.g. `x = 5`\n",
        "    * variable names can be any length and can consist of uppercase and lowercase letters (A-Z, a-z), digits (0-9), and the underscore character (_), except they cannot start with a digit\n",
        "* a function call, e.g. `print(x)`\n",
        "* make in-line comments by prepending lines with \\#"
      ]
    },
    {
      "cell_type": "code",
      "source": [
        "# Multiplication\n",
        "2 * 6"
      ],
      "metadata": {
        "id": "O6BQaIGFiGA9",
        "colab": {
          "base_uri": "https://localhost:8080/"
        },
        "outputId": "2b27bc5e-9656-45fb-e7b7-010588ba968c"
      },
      "execution_count": null,
      "outputs": [
        {
          "output_type": "execute_result",
          "data": {
            "text/plain": [
              "12"
            ]
          },
          "metadata": {},
          "execution_count": 1
        }
      ]
    },
    {
      "cell_type": "code",
      "source": [
        "# Subtraction\n",
        "print(4 - 3)\n",
        "\n",
        "# Addition\n",
        "print(4 + 3)\n",
        "\n",
        "# Division\n",
        "print(int(4 / 4))\n",
        "\n",
        "# Integer Division\n",
        "print(4 // 3)\n",
        "\n",
        "# Modulus Operation\n",
        "print(4 % 3)"
      ],
      "metadata": {
        "id": "XZJeCENiiMzT",
        "colab": {
          "base_uri": "https://localhost:8080/"
        },
        "outputId": "ebbf6fae-ba98-479e-ecdf-8522b259c615"
      },
      "execution_count": null,
      "outputs": [
        {
          "output_type": "stream",
          "name": "stdout",
          "text": [
            "1\n",
            "7\n",
            "1\n",
            "1\n",
            "1\n"
          ]
        }
      ]
    },
    {
      "cell_type": "markdown",
      "metadata": {
        "id": "5lAwIxV5qF_O"
      },
      "source": [
        "### Built-in Data Types\n",
        "\n",
        "* Numbers: there are two important numerical types, `int` and `float`\n",
        "  * integers: `1`, `-3`, etc.\n",
        "  * floating-point: `1.0`, `3.14`, etc.\n",
        "* strings: `'apple'`, `\"v\"`\n",
        "* boolean values: `True`, `False`"
      ]
    },
    {
      "cell_type": "code",
      "source": [
        "# Checking Data Types of variables using built-in functions\n",
        "a = \"apple\"\n",
        "print(f\"Value: {a}\\tData Type: {type(a)}\")\n",
        "a = 1.0\n",
        "print(f\"Value: {a}\\tData Type: {type(a)}\")\n",
        "a = True\n",
        "print(f\"Value: {a}\\tData Type: {type(a)}\")"
      ],
      "metadata": {
        "id": "aM4ZM8Beik21",
        "colab": {
          "base_uri": "https://localhost:8080/"
        },
        "outputId": "f9acb2f6-7ab3-483d-adac-221988dc37ce"
      },
      "execution_count": null,
      "outputs": [
        {
          "output_type": "stream",
          "name": "stdout",
          "text": [
            "Value: apple\tData Type: <class 'str'>\n",
            "Value: 1.0\tData Type: <class 'float'>\n",
            "Value: True\tData Type: <class 'bool'>\n"
          ]
        }
      ]
    },
    {
      "cell_type": "markdown",
      "metadata": {
        "id": "kEu4JTHnrpDG"
      },
      "source": [
        "### Functions\n",
        "\n",
        "Functions are defined with the following syntax:\n",
        "```\n",
        "def function_name(arg1, args2=default2, ...):\n",
        "    # function body\n",
        "    return\n",
        "```\n",
        "Most of the time, your functions should return a value (possibly multiple values, separated by commas) using the `return` keyword, but this isn't a requirement. If you don't explicitly return something, the function will return the special `None` value by default.\n",
        "\n",
        "Functions are called by using the function name followed by parentheses.\n",
        "If you use the function name without parentheses, you are referring to the function itself, as an object.\n",
        "\n",
        "Python contains many built-in functions. Some of these are straightforward math operators, (e.g. `+, -, /, *`), and others must be called using parentheses, such as `print()`, `int()`, `sum()`, or `len()`."
      ]
    },
    {
      "cell_type": "code",
      "source": [
        "def mult_2(a):\n",
        "  a = a * 2\n",
        "  return a"
      ],
      "metadata": {
        "id": "Jo_h5xWe_YRD"
      },
      "execution_count": null,
      "outputs": []
    },
    {
      "cell_type": "code",
      "source": [
        "ret = mult_2(2)\n",
        "print(ret)"
      ],
      "metadata": {
        "colab": {
          "base_uri": "https://localhost:8080/"
        },
        "id": "bS-3Q8wo_i-7",
        "outputId": "d2cea37f-cd4d-4d55-c47f-05bcce1af00d"
      },
      "execution_count": null,
      "outputs": [
        {
          "output_type": "stream",
          "name": "stdout",
          "text": [
            "4\n"
          ]
        }
      ]
    },
    {
      "cell_type": "code",
      "source": [
        "# EXERCISE\n",
        "# Write a function which takes in 2 integers as arguments and returns the sum of those numbers.\n"
      ],
      "metadata": {
        "id": "UzBTuNiljDMy"
      },
      "execution_count": null,
      "outputs": []
    },
    {
      "cell_type": "markdown",
      "metadata": {
        "id": "F1hQYVS-rGL0"
      },
      "source": [
        "### Data Structures\n",
        "\n",
        "Python also has three built-in data structures that are very useful:\n",
        "\n",
        "**Lists** are ordered lists and are created using brackets (`[]`) with comma-separated values. We can access list elements using the list name followed by the index of the element we want to access."
      ]
    },
    {
      "cell_type": "code",
      "metadata": {
        "id": "a7rFwFL0rM8S",
        "colab": {
          "base_uri": "https://localhost:8080/"
        },
        "outputId": "b1bac7a6-0280-470f-e492-a5ec000ff586"
      },
      "source": [
        "# lists\n",
        "l = [1, 2, 3, 4, 5, 6, 7, 8, 9, 10]\n",
        "print(f\"Element at index 0:\",l[0]) # indexing\n",
        "print(f\"Element at index -1: {l[-2]}\") # negative indexing\n",
        "print(f\"Slicing elements: {l[:2]}\") # slicing (start : end (exclusive) : period)\n",
        "\n",
        "l1 = [1, \"a\", [], True, 1.0] # list elements don't need to be the same type\n",
        "\n",
        "t1 = list() # defining empty list, also `list()`\n",
        "print(t1)\n",
        "t1.append(1) # add to a list\n",
        "t1.append([3,4])\n",
        "print(t1)\n",
        "t1.pop()\n",
        "print(t1)\n",
        "print(len(t1)) # get the length\n",
        "\n",
        "print(l1 + t1) # concatenation of two lists"
      ],
      "execution_count": null,
      "outputs": [
        {
          "output_type": "stream",
          "name": "stdout",
          "text": [
            "Element at index 0: 1\n",
            "Element at index -1: 9\n",
            "Slicing elements: [1, 2]\n",
            "[]\n",
            "[1, [3, 4]]\n",
            "[1]\n",
            "1\n",
            "[1, 'a', [], True, 1.0, 1]\n"
          ]
        }
      ]
    },
    {
      "cell_type": "markdown",
      "metadata": {
        "id": "UdVydmiCqkmO"
      },
      "source": [
        "**Dictionaries**, or hash tables, are sets of key-value pairs. We create dictionaries using curly braces (`{}`). We can access the value associated with a particular key by typing the name of the dictionary followed by the key in brackets. The key can be a variable or a literal (strings or numbers).\n"
      ]
    },
    {
      "cell_type": "code",
      "metadata": {
        "id": "2eV4PAYzriWr",
        "colab": {
          "base_uri": "https://localhost:8080/"
        },
        "outputId": "ddeda0f4-4ddc-4a7b-c8ec-9e49ac1062c3"
      },
      "source": [
        "d = {\"apple\": \"a fruit\", \"banana\": \"an herb\", \"monkey\": \"a mammal\"}\n",
        "print(len(d)) # number of key-value pairs in d\n",
        "print(d[\"apple\"]) # accessing an element\n",
        "\n",
        "d['apple'] = 'a vegetable' # assign a new key-value pair\n",
        "print(d)\n",
        "del d['apple'] # delete a key-value pair\n",
        "print(\"apple\" in d) # check membership\n",
        "\n",
        "print(list(d.keys())) # unordered list of keys in the dictionary\n",
        "print(d.values()) # unordered list of values in the dictionary"
      ],
      "execution_count": null,
      "outputs": [
        {
          "output_type": "stream",
          "name": "stdout",
          "text": [
            "3\n",
            "a fruit\n",
            "{'apple': 'a vegetable', 'banana': 'an herb', 'monkey': 'a mammal'}\n",
            "False\n",
            "['banana', 'monkey']\n",
            "dict_values(['an herb', 'a mammal'])\n"
          ]
        }
      ]
    },
    {
      "cell_type": "markdown",
      "metadata": {
        "id": "GZVcUoCQqmDh"
      },
      "source": [
        "**Tuples** are also ordered lists of items, but unlike lists they cannot be changed (i.e., they're immutable). Tuples are created using parentheses and their elements can also be accessed using brackets.\n"
      ]
    },
    {
      "cell_type": "code",
      "metadata": {
        "id": "S7mzqXoGreG4",
        "colab": {
          "base_uri": "https://localhost:8080/"
        },
        "outputId": "921e1ef7-4a9f-4221-ce7b-6c818b5dce1c"
      },
      "source": [
        "t = (1, 2, \"cow\")\n",
        "print(t[-1])"
      ],
      "execution_count": null,
      "outputs": [
        {
          "output_type": "stream",
          "name": "stdout",
          "text": [
            "cow\n"
          ]
        }
      ]
    },
    {
      "cell_type": "code",
      "source": [
        "# This should give you an error :)\n",
        "t[0] = True"
      ],
      "metadata": {
        "id": "8CsFUB57kTxG",
        "colab": {
          "base_uri": "https://localhost:8080/",
          "height": 184
        },
        "outputId": "98c884c8-f2eb-4164-8f41-e405f849a3b7"
      },
      "execution_count": null,
      "outputs": [
        {
          "output_type": "error",
          "ename": "TypeError",
          "evalue": "ignored",
          "traceback": [
            "\u001b[0;31m---------------------------------------------------------------------------\u001b[0m",
            "\u001b[0;31mTypeError\u001b[0m                                 Traceback (most recent call last)",
            "\u001b[0;32m<ipython-input-23-e33e865b2778>\u001b[0m in \u001b[0;36m<module>\u001b[0;34m\u001b[0m\n\u001b[1;32m      1\u001b[0m \u001b[0;31m# This should give you an error :)\u001b[0m\u001b[0;34m\u001b[0m\u001b[0;34m\u001b[0m\u001b[0;34m\u001b[0m\u001b[0m\n\u001b[0;32m----> 2\u001b[0;31m \u001b[0mt\u001b[0m\u001b[0;34m[\u001b[0m\u001b[0;36m0\u001b[0m\u001b[0;34m]\u001b[0m \u001b[0;34m=\u001b[0m \u001b[0;32mTrue\u001b[0m\u001b[0;34m\u001b[0m\u001b[0;34m\u001b[0m\u001b[0m\n\u001b[0m",
            "\u001b[0;31mTypeError\u001b[0m: 'tuple' object does not support item assignment"
          ]
        }
      ]
    },
    {
      "cell_type": "markdown",
      "source": [
        "**Strings** are very dynamic in Python and one can easily perform a variety of operations on them, including some suitable logical ones. Let's have a look at some examples:"
      ],
      "metadata": {
        "id": "cIRYPw1GpCxL"
      }
    },
    {
      "cell_type": "code",
      "source": [
        "s = \"hello world, nice to meet you all. How are you doing?\"\n",
        "# Capitalizing the first letter of the every word in every sentence\n",
        "print(s.title())\n",
        "\n",
        "# Slicing based on characters\n",
        "print(s[:10])\n",
        "\n",
        "# Merging strings\n",
        "s = \"My name is \"\n",
        "s1 = \"Deep\"\n",
        "print(s+s1)\n",
        "\n",
        "# Splitting strings based on a given character\n",
        "s2 = \"apples,oranges,bananas,pineapples\"\n",
        "print(s2.split(\",\"))\n",
        "\n",
        "# Replacing Characters\n",
        "s3 = \"I'm fine thank you!\"\n",
        "print(s3.replace(\"fine\", \"great\"))"
      ],
      "metadata": {
        "id": "U48TH7DupSHl"
      },
      "execution_count": null,
      "outputs": []
    },
    {
      "cell_type": "markdown",
      "metadata": {
        "id": "KIq03V2Z2Ypd"
      },
      "source": [
        "### Control Flow\n",
        "\n",
        "Python supports standard control flow keywords such as\n",
        "* `if`/`elif`/`else`\n",
        "    ```\n",
        "    if condition_a:\n",
        "      # do something\n",
        "    elif condition_b:\n",
        "      # do something else\n",
        "    else:\n",
        "      # do something else instead\n",
        "    ```\n",
        "    Note that `elif` and `else` are not necessary."
      ]
    },
    {
      "cell_type": "markdown",
      "source": [
        "* `for` loops:\n",
        "    ```\n",
        "    for iter_name in iterable: # e.g. a list like [1, 2, 3]\n",
        "      # do something\n",
        "      print(iter_name)\n",
        "    ```\n",
        "    \n",
        "    Note that `iterable` can be any object that can be iterated over in order. Most commonly, `iterable` is a list. Dictionaries are not iterable as they are unordered. A useful built-in function is `range(n)`, which returns an iterable of all integers from 0 to n-1."
      ],
      "metadata": {
        "id": "0bVQXrmoki55"
      }
    },
    {
      "cell_type": "code",
      "source": [
        "# Iterate through a list and print all of it's elements (We'll also learn about the range() function here!)\n",
        "l = ['hello','world','nice','to','see', 'you', 'all']\n",
        "n = len(l)\n",
        "for i in l:\n",
        "  print(i)"
      ],
      "metadata": {
        "id": "SZ3BGtCxkn7n",
        "colab": {
          "base_uri": "https://localhost:8080/"
        },
        "outputId": "86b5ba64-443d-4f0d-dafa-d1c33740adad"
      },
      "execution_count": null,
      "outputs": [
        {
          "output_type": "stream",
          "name": "stdout",
          "text": [
            "hello\n",
            "world\n",
            "nice\n",
            "to\n",
            "see\n",
            "you\n",
            "all\n"
          ]
        }
      ]
    },
    {
      "cell_type": "markdown",
      "source": [
        "### Logic\n",
        "\n",
        "* equals: `==` or `is`\n",
        "    ```\n",
        "    x = 5\n",
        "    if x is 5:\n",
        "      print(\"true\")\n",
        "    else:\n",
        "      print(\"false\")\n",
        "    ```\n",
        "* not: `!` or `not`\n",
        "    ```\n",
        "    x = 5\n",
        "    if x != 5:\n",
        "      print(\"false\"):\n",
        "    elif x is not 8:\n",
        "      print(\"true\")\n",
        "    ```\n",
        "* logical and/or: `and`/`or` or `&&`/`||`\n",
        "* greater/less than: `>`/`<`"
      ],
      "metadata": {
        "id": "fUMW8_4CkoZl"
      }
    },
    {
      "cell_type": "code",
      "source": [
        "# Find all elements in the list greater than 3.\n",
        "l = [5, 6, 7, 2, 9, 0]\n",
        "for i in range(len(l)):\n",
        "  if l[i] > 3:\n",
        "    print(f\"Element at index {i} satisfies the condition\")\n",
        "  elif l[i] == 3:\n",
        "    print(f\"Element at index {i} just missed it!\")\n",
        "  else:\n",
        "    print(f\"Element at index {i} doesn't satisfy the condition\")"
      ],
      "metadata": {
        "id": "f3DOQdg7kqkv"
      },
      "execution_count": null,
      "outputs": []
    },
    {
      "cell_type": "markdown",
      "source": [
        "## Importing Modules\n",
        "Python allows importing external modules to be used in the code. These modules are essentially functions written and compiled as a single module so that it's easier to use rather than writing everything from scratch.\n",
        "\n",
        "The easiest way to import any module is by using:\n",
        "```python\n",
        "import module_a\n",
        "```\n",
        "or in order to import a specific function from a module, one can use:\n",
        "```python\n",
        "from module_a import function_a\n",
        "```\n",
        "After running this, the function can be freely used in the current script without defining it again."
      ],
      "metadata": {
        "id": "dyenFGyOnH6H"
      }
    },
    {
      "cell_type": "markdown",
      "source": [
        "For example, in order to calculate the square root of a given number, it is always handy to use the `math` module. Thus, we do so in the following way:"
      ],
      "metadata": {
        "id": "z_rOB2Cen5rC"
      }
    },
    {
      "cell_type": "code",
      "source": [
        "import math\n",
        "math.sqrt(4.0)"
      ],
      "metadata": {
        "id": "PhF87ma4oE0O",
        "colab": {
          "base_uri": "https://localhost:8080/"
        },
        "outputId": "f8e45d3b-be8a-4eec-8abe-a13ea4165f72"
      },
      "execution_count": null,
      "outputs": [
        {
          "output_type": "execute_result",
          "data": {
            "text/plain": [
              "2.0"
            ]
          },
          "metadata": {},
          "execution_count": 29
        }
      ]
    },
    {
      "cell_type": "code",
      "source": [
        "# We can also do it in this manner\n",
        "from math import sqrt\n",
        "sqrt(4.0)"
      ],
      "metadata": {
        "id": "G9ammDUPoJhT"
      },
      "execution_count": null,
      "outputs": []
    },
    {
      "cell_type": "markdown",
      "source": [
        ">Note: Whenever you import a module, make sure it's installed on your system as well. If it's not one of the pre-installed modules, you can install it by using various command line tools such as [pip](https://pypi.org/) or [conda](https://docs.conda.io/projects/conda/en/latest/commands/install.html)"
      ],
      "metadata": {
        "id": "12Uk4fxFoQD0"
      }
    },
    {
      "cell_type": "markdown",
      "source": [
        "## Datasets and Pandas\n",
        "\n",
        "In order to work with datasets in Python, the most important one you will come across is `pandas`. The pandas package helps with importing datasets from various file formats such as csv, tsv, json, etc. and perform various preprocessing steps on them. Pandas is pre-installed on Colab but you can install it on your own system using:\n",
        "`pip install pandas`.\n",
        "\n",
        "In this lab, we will import a dataset ([ADULT](https://archive.ics.uci.edu/ml/datasets/Adult) dataset from the [UCI ML Respository](https://archive.ics.uci.edu/ml/datasets.php)) from on online hosting service and perform some preprocessing on the columns and also look at some statistics of the columns. For other things that pandas can do, you can have a look at the documentation [here](https://pandas.pydata.org/docs/user_guide/index.html)."
      ],
      "metadata": {
        "id": "81uLSCPwFcHM"
      }
    },
    {
      "cell_type": "code",
      "source": [
        "# importing pandas\n",
        "import pandas as pd\n",
        "import matplotlib.pyplot as plt"
      ],
      "metadata": {
        "id": "oF7071pxGkZ6"
      },
      "execution_count": null,
      "outputs": []
    },
    {
      "cell_type": "code",
      "source": [
        "# Reading the data hosted as a csv directly as it's in the correct format\n",
        "df = pd.read_csv(\"https://archive.ics.uci.edu/ml/machine-learning-databases/adult/adult.data\", names = ['age','workclass','fnlwgt','education','education-num','marital-status','occupation','relationship','race','sex','capital-gain','capital-loss','hours-per-week','native-country','outcome'])\n",
        "df"
      ],
      "metadata": {
        "id": "pDQ-jhTrGkWT",
        "colab": {
          "base_uri": "https://localhost:8080/",
          "height": 800
        },
        "outputId": "ac807980-d8a6-44b0-eaeb-1d3eba5a9d7f"
      },
      "execution_count": null,
      "outputs": [
        {
          "output_type": "execute_result",
          "data": {
            "text/plain": [
              "       age          workclass  fnlwgt    education  education-num  \\\n",
              "0       39          State-gov   77516    Bachelors             13   \n",
              "1       50   Self-emp-not-inc   83311    Bachelors             13   \n",
              "2       38            Private  215646      HS-grad              9   \n",
              "3       53            Private  234721         11th              7   \n",
              "4       28            Private  338409    Bachelors             13   \n",
              "...    ...                ...     ...          ...            ...   \n",
              "32556   27            Private  257302   Assoc-acdm             12   \n",
              "32557   40            Private  154374      HS-grad              9   \n",
              "32558   58            Private  151910      HS-grad              9   \n",
              "32559   22            Private  201490      HS-grad              9   \n",
              "32560   52       Self-emp-inc  287927      HS-grad              9   \n",
              "\n",
              "            marital-status          occupation    relationship    race  \\\n",
              "0            Never-married        Adm-clerical   Not-in-family   White   \n",
              "1       Married-civ-spouse     Exec-managerial         Husband   White   \n",
              "2                 Divorced   Handlers-cleaners   Not-in-family   White   \n",
              "3       Married-civ-spouse   Handlers-cleaners         Husband   Black   \n",
              "4       Married-civ-spouse      Prof-specialty            Wife   Black   \n",
              "...                    ...                 ...             ...     ...   \n",
              "32556   Married-civ-spouse        Tech-support            Wife   White   \n",
              "32557   Married-civ-spouse   Machine-op-inspct         Husband   White   \n",
              "32558              Widowed        Adm-clerical       Unmarried   White   \n",
              "32559        Never-married        Adm-clerical       Own-child   White   \n",
              "32560   Married-civ-spouse     Exec-managerial            Wife   White   \n",
              "\n",
              "           sex  capital-gain  capital-loss  hours-per-week  native-country  \\\n",
              "0         Male          2174             0              40   United-States   \n",
              "1         Male             0             0              13   United-States   \n",
              "2         Male             0             0              40   United-States   \n",
              "3         Male             0             0              40   United-States   \n",
              "4       Female             0             0              40            Cuba   \n",
              "...        ...           ...           ...             ...             ...   \n",
              "32556   Female             0             0              38   United-States   \n",
              "32557     Male             0             0              40   United-States   \n",
              "32558   Female             0             0              40   United-States   \n",
              "32559     Male             0             0              20   United-States   \n",
              "32560   Female         15024             0              40   United-States   \n",
              "\n",
              "      outcome  \n",
              "0       <=50K  \n",
              "1       <=50K  \n",
              "2       <=50K  \n",
              "3       <=50K  \n",
              "4       <=50K  \n",
              "...       ...  \n",
              "32556   <=50K  \n",
              "32557    >50K  \n",
              "32558   <=50K  \n",
              "32559   <=50K  \n",
              "32560    >50K  \n",
              "\n",
              "[32561 rows x 15 columns]"
            ],
            "text/html": [
              "\n",
              "  <div id=\"df-128292f8-a03b-464c-96e1-3eeb60c2a3f4\">\n",
              "    <div class=\"colab-df-container\">\n",
              "      <div>\n",
              "<style scoped>\n",
              "    .dataframe tbody tr th:only-of-type {\n",
              "        vertical-align: middle;\n",
              "    }\n",
              "\n",
              "    .dataframe tbody tr th {\n",
              "        vertical-align: top;\n",
              "    }\n",
              "\n",
              "    .dataframe thead th {\n",
              "        text-align: right;\n",
              "    }\n",
              "</style>\n",
              "<table border=\"1\" class=\"dataframe\">\n",
              "  <thead>\n",
              "    <tr style=\"text-align: right;\">\n",
              "      <th></th>\n",
              "      <th>age</th>\n",
              "      <th>workclass</th>\n",
              "      <th>fnlwgt</th>\n",
              "      <th>education</th>\n",
              "      <th>education-num</th>\n",
              "      <th>marital-status</th>\n",
              "      <th>occupation</th>\n",
              "      <th>relationship</th>\n",
              "      <th>race</th>\n",
              "      <th>sex</th>\n",
              "      <th>capital-gain</th>\n",
              "      <th>capital-loss</th>\n",
              "      <th>hours-per-week</th>\n",
              "      <th>native-country</th>\n",
              "      <th>outcome</th>\n",
              "    </tr>\n",
              "  </thead>\n",
              "  <tbody>\n",
              "    <tr>\n",
              "      <th>0</th>\n",
              "      <td>39</td>\n",
              "      <td>State-gov</td>\n",
              "      <td>77516</td>\n",
              "      <td>Bachelors</td>\n",
              "      <td>13</td>\n",
              "      <td>Never-married</td>\n",
              "      <td>Adm-clerical</td>\n",
              "      <td>Not-in-family</td>\n",
              "      <td>White</td>\n",
              "      <td>Male</td>\n",
              "      <td>2174</td>\n",
              "      <td>0</td>\n",
              "      <td>40</td>\n",
              "      <td>United-States</td>\n",
              "      <td>&lt;=50K</td>\n",
              "    </tr>\n",
              "    <tr>\n",
              "      <th>1</th>\n",
              "      <td>50</td>\n",
              "      <td>Self-emp-not-inc</td>\n",
              "      <td>83311</td>\n",
              "      <td>Bachelors</td>\n",
              "      <td>13</td>\n",
              "      <td>Married-civ-spouse</td>\n",
              "      <td>Exec-managerial</td>\n",
              "      <td>Husband</td>\n",
              "      <td>White</td>\n",
              "      <td>Male</td>\n",
              "      <td>0</td>\n",
              "      <td>0</td>\n",
              "      <td>13</td>\n",
              "      <td>United-States</td>\n",
              "      <td>&lt;=50K</td>\n",
              "    </tr>\n",
              "    <tr>\n",
              "      <th>2</th>\n",
              "      <td>38</td>\n",
              "      <td>Private</td>\n",
              "      <td>215646</td>\n",
              "      <td>HS-grad</td>\n",
              "      <td>9</td>\n",
              "      <td>Divorced</td>\n",
              "      <td>Handlers-cleaners</td>\n",
              "      <td>Not-in-family</td>\n",
              "      <td>White</td>\n",
              "      <td>Male</td>\n",
              "      <td>0</td>\n",
              "      <td>0</td>\n",
              "      <td>40</td>\n",
              "      <td>United-States</td>\n",
              "      <td>&lt;=50K</td>\n",
              "    </tr>\n",
              "    <tr>\n",
              "      <th>3</th>\n",
              "      <td>53</td>\n",
              "      <td>Private</td>\n",
              "      <td>234721</td>\n",
              "      <td>11th</td>\n",
              "      <td>7</td>\n",
              "      <td>Married-civ-spouse</td>\n",
              "      <td>Handlers-cleaners</td>\n",
              "      <td>Husband</td>\n",
              "      <td>Black</td>\n",
              "      <td>Male</td>\n",
              "      <td>0</td>\n",
              "      <td>0</td>\n",
              "      <td>40</td>\n",
              "      <td>United-States</td>\n",
              "      <td>&lt;=50K</td>\n",
              "    </tr>\n",
              "    <tr>\n",
              "      <th>4</th>\n",
              "      <td>28</td>\n",
              "      <td>Private</td>\n",
              "      <td>338409</td>\n",
              "      <td>Bachelors</td>\n",
              "      <td>13</td>\n",
              "      <td>Married-civ-spouse</td>\n",
              "      <td>Prof-specialty</td>\n",
              "      <td>Wife</td>\n",
              "      <td>Black</td>\n",
              "      <td>Female</td>\n",
              "      <td>0</td>\n",
              "      <td>0</td>\n",
              "      <td>40</td>\n",
              "      <td>Cuba</td>\n",
              "      <td>&lt;=50K</td>\n",
              "    </tr>\n",
              "    <tr>\n",
              "      <th>...</th>\n",
              "      <td>...</td>\n",
              "      <td>...</td>\n",
              "      <td>...</td>\n",
              "      <td>...</td>\n",
              "      <td>...</td>\n",
              "      <td>...</td>\n",
              "      <td>...</td>\n",
              "      <td>...</td>\n",
              "      <td>...</td>\n",
              "      <td>...</td>\n",
              "      <td>...</td>\n",
              "      <td>...</td>\n",
              "      <td>...</td>\n",
              "      <td>...</td>\n",
              "      <td>...</td>\n",
              "    </tr>\n",
              "    <tr>\n",
              "      <th>32556</th>\n",
              "      <td>27</td>\n",
              "      <td>Private</td>\n",
              "      <td>257302</td>\n",
              "      <td>Assoc-acdm</td>\n",
              "      <td>12</td>\n",
              "      <td>Married-civ-spouse</td>\n",
              "      <td>Tech-support</td>\n",
              "      <td>Wife</td>\n",
              "      <td>White</td>\n",
              "      <td>Female</td>\n",
              "      <td>0</td>\n",
              "      <td>0</td>\n",
              "      <td>38</td>\n",
              "      <td>United-States</td>\n",
              "      <td>&lt;=50K</td>\n",
              "    </tr>\n",
              "    <tr>\n",
              "      <th>32557</th>\n",
              "      <td>40</td>\n",
              "      <td>Private</td>\n",
              "      <td>154374</td>\n",
              "      <td>HS-grad</td>\n",
              "      <td>9</td>\n",
              "      <td>Married-civ-spouse</td>\n",
              "      <td>Machine-op-inspct</td>\n",
              "      <td>Husband</td>\n",
              "      <td>White</td>\n",
              "      <td>Male</td>\n",
              "      <td>0</td>\n",
              "      <td>0</td>\n",
              "      <td>40</td>\n",
              "      <td>United-States</td>\n",
              "      <td>&gt;50K</td>\n",
              "    </tr>\n",
              "    <tr>\n",
              "      <th>32558</th>\n",
              "      <td>58</td>\n",
              "      <td>Private</td>\n",
              "      <td>151910</td>\n",
              "      <td>HS-grad</td>\n",
              "      <td>9</td>\n",
              "      <td>Widowed</td>\n",
              "      <td>Adm-clerical</td>\n",
              "      <td>Unmarried</td>\n",
              "      <td>White</td>\n",
              "      <td>Female</td>\n",
              "      <td>0</td>\n",
              "      <td>0</td>\n",
              "      <td>40</td>\n",
              "      <td>United-States</td>\n",
              "      <td>&lt;=50K</td>\n",
              "    </tr>\n",
              "    <tr>\n",
              "      <th>32559</th>\n",
              "      <td>22</td>\n",
              "      <td>Private</td>\n",
              "      <td>201490</td>\n",
              "      <td>HS-grad</td>\n",
              "      <td>9</td>\n",
              "      <td>Never-married</td>\n",
              "      <td>Adm-clerical</td>\n",
              "      <td>Own-child</td>\n",
              "      <td>White</td>\n",
              "      <td>Male</td>\n",
              "      <td>0</td>\n",
              "      <td>0</td>\n",
              "      <td>20</td>\n",
              "      <td>United-States</td>\n",
              "      <td>&lt;=50K</td>\n",
              "    </tr>\n",
              "    <tr>\n",
              "      <th>32560</th>\n",
              "      <td>52</td>\n",
              "      <td>Self-emp-inc</td>\n",
              "      <td>287927</td>\n",
              "      <td>HS-grad</td>\n",
              "      <td>9</td>\n",
              "      <td>Married-civ-spouse</td>\n",
              "      <td>Exec-managerial</td>\n",
              "      <td>Wife</td>\n",
              "      <td>White</td>\n",
              "      <td>Female</td>\n",
              "      <td>15024</td>\n",
              "      <td>0</td>\n",
              "      <td>40</td>\n",
              "      <td>United-States</td>\n",
              "      <td>&gt;50K</td>\n",
              "    </tr>\n",
              "  </tbody>\n",
              "</table>\n",
              "<p>32561 rows × 15 columns</p>\n",
              "</div>\n",
              "      <button class=\"colab-df-convert\" onclick=\"convertToInteractive('df-128292f8-a03b-464c-96e1-3eeb60c2a3f4')\"\n",
              "              title=\"Convert this dataframe to an interactive table.\"\n",
              "              style=\"display:none;\">\n",
              "        \n",
              "  <svg xmlns=\"http://www.w3.org/2000/svg\" height=\"24px\"viewBox=\"0 0 24 24\"\n",
              "       width=\"24px\">\n",
              "    <path d=\"M0 0h24v24H0V0z\" fill=\"none\"/>\n",
              "    <path d=\"M18.56 5.44l.94 2.06.94-2.06 2.06-.94-2.06-.94-.94-2.06-.94 2.06-2.06.94zm-11 1L8.5 8.5l.94-2.06 2.06-.94-2.06-.94L8.5 2.5l-.94 2.06-2.06.94zm10 10l.94 2.06.94-2.06 2.06-.94-2.06-.94-.94-2.06-.94 2.06-2.06.94z\"/><path d=\"M17.41 7.96l-1.37-1.37c-.4-.4-.92-.59-1.43-.59-.52 0-1.04.2-1.43.59L10.3 9.45l-7.72 7.72c-.78.78-.78 2.05 0 2.83L4 21.41c.39.39.9.59 1.41.59.51 0 1.02-.2 1.41-.59l7.78-7.78 2.81-2.81c.8-.78.8-2.07 0-2.86zM5.41 20L4 18.59l7.72-7.72 1.47 1.35L5.41 20z\"/>\n",
              "  </svg>\n",
              "      </button>\n",
              "      \n",
              "  <style>\n",
              "    .colab-df-container {\n",
              "      display:flex;\n",
              "      flex-wrap:wrap;\n",
              "      gap: 12px;\n",
              "    }\n",
              "\n",
              "    .colab-df-convert {\n",
              "      background-color: #E8F0FE;\n",
              "      border: none;\n",
              "      border-radius: 50%;\n",
              "      cursor: pointer;\n",
              "      display: none;\n",
              "      fill: #1967D2;\n",
              "      height: 32px;\n",
              "      padding: 0 0 0 0;\n",
              "      width: 32px;\n",
              "    }\n",
              "\n",
              "    .colab-df-convert:hover {\n",
              "      background-color: #E2EBFA;\n",
              "      box-shadow: 0px 1px 2px rgba(60, 64, 67, 0.3), 0px 1px 3px 1px rgba(60, 64, 67, 0.15);\n",
              "      fill: #174EA6;\n",
              "    }\n",
              "\n",
              "    [theme=dark] .colab-df-convert {\n",
              "      background-color: #3B4455;\n",
              "      fill: #D2E3FC;\n",
              "    }\n",
              "\n",
              "    [theme=dark] .colab-df-convert:hover {\n",
              "      background-color: #434B5C;\n",
              "      box-shadow: 0px 1px 3px 1px rgba(0, 0, 0, 0.15);\n",
              "      filter: drop-shadow(0px 1px 2px rgba(0, 0, 0, 0.3));\n",
              "      fill: #FFFFFF;\n",
              "    }\n",
              "  </style>\n",
              "\n",
              "      <script>\n",
              "        const buttonEl =\n",
              "          document.querySelector('#df-128292f8-a03b-464c-96e1-3eeb60c2a3f4 button.colab-df-convert');\n",
              "        buttonEl.style.display =\n",
              "          google.colab.kernel.accessAllowed ? 'block' : 'none';\n",
              "\n",
              "        async function convertToInteractive(key) {\n",
              "          const element = document.querySelector('#df-128292f8-a03b-464c-96e1-3eeb60c2a3f4');\n",
              "          const dataTable =\n",
              "            await google.colab.kernel.invokeFunction('convertToInteractive',\n",
              "                                                     [key], {});\n",
              "          if (!dataTable) return;\n",
              "\n",
              "          const docLinkHtml = 'Like what you see? Visit the ' +\n",
              "            '<a target=\"_blank\" href=https://colab.research.google.com/notebooks/data_table.ipynb>data table notebook</a>'\n",
              "            + ' to learn more about interactive tables.';\n",
              "          element.innerHTML = '';\n",
              "          dataTable['output_type'] = 'display_data';\n",
              "          await google.colab.output.renderOutput(dataTable, element);\n",
              "          const docLink = document.createElement('div');\n",
              "          docLink.innerHTML = docLinkHtml;\n",
              "          element.appendChild(docLink);\n",
              "        }\n",
              "      </script>\n",
              "    </div>\n",
              "  </div>\n",
              "  "
            ]
          },
          "metadata": {},
          "execution_count": 33
        }
      ]
    },
    {
      "cell_type": "code",
      "source": [
        "# Since NA values are represented as ? in this dataset,\n",
        "# we replace it with a NaN character so pandas recognizes it as a n/a value\n",
        "df.replace(\" ?\", pd.NA, inplace=True)"
      ],
      "metadata": {
        "id": "Sw8pS0o2KPmU"
      },
      "execution_count": null,
      "outputs": []
    },
    {
      "cell_type": "code",
      "source": [
        "# Looking at NAs in a column\n",
        "print(df.isna().sum())"
      ],
      "metadata": {
        "id": "Iov6_sEVGkTI",
        "colab": {
          "base_uri": "https://localhost:8080/"
        },
        "outputId": "da8f6bdc-0b5c-467a-ffd1-bcda99bfcdb9"
      },
      "execution_count": null,
      "outputs": [
        {
          "output_type": "stream",
          "name": "stdout",
          "text": [
            "age                  0\n",
            "workclass         1836\n",
            "fnlwgt               0\n",
            "education            0\n",
            "education-num        0\n",
            "marital-status       0\n",
            "occupation        1843\n",
            "relationship         0\n",
            "race                 0\n",
            "sex                  0\n",
            "capital-gain         0\n",
            "capital-loss         0\n",
            "hours-per-week       0\n",
            "native-country     583\n",
            "outcome              0\n",
            "dtype: int64\n"
          ]
        }
      ]
    },
    {
      "cell_type": "code",
      "source": [
        "# Basic solution would be to just drop rows having n/a values\n",
        "df1 = df.dropna()\n",
        "print(df1.isna().sum())"
      ],
      "metadata": {
        "id": "Z8xOP-WvGkKU",
        "colab": {
          "base_uri": "https://localhost:8080/"
        },
        "outputId": "a7e99308-0d79-4d92-f3d5-1a38d7a496eb"
      },
      "execution_count": null,
      "outputs": [
        {
          "output_type": "stream",
          "name": "stdout",
          "text": [
            "age               0\n",
            "workclass         0\n",
            "fnlwgt            0\n",
            "education         0\n",
            "education-num     0\n",
            "marital-status    0\n",
            "occupation        0\n",
            "relationship      0\n",
            "race              0\n",
            "sex               0\n",
            "capital-gain      0\n",
            "capital-loss      0\n",
            "hours-per-week    0\n",
            "native-country    0\n",
            "outcome           0\n",
            "dtype: int64\n"
          ]
        }
      ]
    },
    {
      "cell_type": "code",
      "source": [
        "# Calculating Mean, Median, Mode of a column\n",
        "print(\"Mean\",df['hours-per-week'].mean())\n",
        "print(\"Median\",df['hours-per-week'].median())\n",
        "print(\"Mode\",df['hours-per-week'].mode().values[0])"
      ],
      "metadata": {
        "id": "t9Ivj91_K62Z",
        "colab": {
          "base_uri": "https://localhost:8080/"
        },
        "outputId": "903ca444-f432-4419-ac9a-72969b97ee2e"
      },
      "execution_count": null,
      "outputs": [
        {
          "output_type": "stream",
          "name": "stdout",
          "text": [
            "Mean 40.437455852092995\n",
            "Median 40.0\n",
            "Mode 40\n"
          ]
        }
      ]
    },
    {
      "cell_type": "code",
      "source": [
        "# Some calls work for categorical variables too\n",
        "print(df['occupation'].mode().values[0])"
      ],
      "metadata": {
        "id": "ORdK_TI0Lb3j",
        "colab": {
          "base_uri": "https://localhost:8080/"
        },
        "outputId": "5e849cb4-7ade-463c-fd1f-c77fbf0b14e2"
      },
      "execution_count": null,
      "outputs": [
        {
          "output_type": "stream",
          "name": "stdout",
          "text": [
            " Prof-specialty\n"
          ]
        }
      ]
    },
    {
      "cell_type": "code",
      "source": [
        "# Filtering Dataframe based on certain attributes\n",
        "# For example, here we'll be selecting a dataframe of people with age below 40\n",
        "df[df['age'] < 40]"
      ],
      "metadata": {
        "id": "Ha12ckzxLYEA",
        "colab": {
          "base_uri": "https://localhost:8080/",
          "height": 783
        },
        "outputId": "f9ecf2ab-e2ae-4a79-9d68-c0137292e7d9"
      },
      "execution_count": null,
      "outputs": [
        {
          "output_type": "execute_result",
          "data": {
            "text/plain": [
              "       age   workclass  fnlwgt      education  education-num  \\\n",
              "0       39   State-gov   77516      Bachelors             13   \n",
              "2       38     Private  215646        HS-grad              9   \n",
              "4       28     Private  338409      Bachelors             13   \n",
              "5       37     Private  284582        Masters             14   \n",
              "8       31     Private   45781        Masters             14   \n",
              "...    ...         ...     ...            ...            ...   \n",
              "32551   32     Private   34066           10th              6   \n",
              "32553   32     Private  116138        Masters             14   \n",
              "32555   22     Private  310152   Some-college             10   \n",
              "32556   27     Private  257302     Assoc-acdm             12   \n",
              "32559   22     Private  201490        HS-grad              9   \n",
              "\n",
              "            marital-status          occupation    relationship  \\\n",
              "0            Never-married        Adm-clerical   Not-in-family   \n",
              "2                 Divorced   Handlers-cleaners   Not-in-family   \n",
              "4       Married-civ-spouse      Prof-specialty            Wife   \n",
              "5       Married-civ-spouse     Exec-managerial            Wife   \n",
              "8            Never-married      Prof-specialty   Not-in-family   \n",
              "...                    ...                 ...             ...   \n",
              "32551   Married-civ-spouse   Handlers-cleaners         Husband   \n",
              "32553        Never-married        Tech-support   Not-in-family   \n",
              "32555        Never-married     Protective-serv   Not-in-family   \n",
              "32556   Married-civ-spouse        Tech-support            Wife   \n",
              "32559        Never-married        Adm-clerical       Own-child   \n",
              "\n",
              "                      race      sex  capital-gain  capital-loss  \\\n",
              "0                    White     Male          2174             0   \n",
              "2                    White     Male             0             0   \n",
              "4                    Black   Female             0             0   \n",
              "5                    White   Female             0             0   \n",
              "8                    White   Female         14084             0   \n",
              "...                    ...      ...           ...           ...   \n",
              "32551   Amer-Indian-Eskimo     Male             0             0   \n",
              "32553   Asian-Pac-Islander     Male             0             0   \n",
              "32555                White     Male             0             0   \n",
              "32556                White   Female             0             0   \n",
              "32559                White     Male             0             0   \n",
              "\n",
              "       hours-per-week  native-country outcome  \n",
              "0                  40   United-States   <=50K  \n",
              "2                  40   United-States   <=50K  \n",
              "4                  40            Cuba   <=50K  \n",
              "5                  40   United-States   <=50K  \n",
              "8                  50   United-States    >50K  \n",
              "...               ...             ...     ...  \n",
              "32551              40   United-States   <=50K  \n",
              "32553              11          Taiwan   <=50K  \n",
              "32555              40   United-States   <=50K  \n",
              "32556              38   United-States   <=50K  \n",
              "32559              20   United-States   <=50K  \n",
              "\n",
              "[18324 rows x 15 columns]"
            ],
            "text/html": [
              "\n",
              "  <div id=\"df-94e4046c-dfd5-4a80-9fc8-18319b85b38a\">\n",
              "    <div class=\"colab-df-container\">\n",
              "      <div>\n",
              "<style scoped>\n",
              "    .dataframe tbody tr th:only-of-type {\n",
              "        vertical-align: middle;\n",
              "    }\n",
              "\n",
              "    .dataframe tbody tr th {\n",
              "        vertical-align: top;\n",
              "    }\n",
              "\n",
              "    .dataframe thead th {\n",
              "        text-align: right;\n",
              "    }\n",
              "</style>\n",
              "<table border=\"1\" class=\"dataframe\">\n",
              "  <thead>\n",
              "    <tr style=\"text-align: right;\">\n",
              "      <th></th>\n",
              "      <th>age</th>\n",
              "      <th>workclass</th>\n",
              "      <th>fnlwgt</th>\n",
              "      <th>education</th>\n",
              "      <th>education-num</th>\n",
              "      <th>marital-status</th>\n",
              "      <th>occupation</th>\n",
              "      <th>relationship</th>\n",
              "      <th>race</th>\n",
              "      <th>sex</th>\n",
              "      <th>capital-gain</th>\n",
              "      <th>capital-loss</th>\n",
              "      <th>hours-per-week</th>\n",
              "      <th>native-country</th>\n",
              "      <th>outcome</th>\n",
              "    </tr>\n",
              "  </thead>\n",
              "  <tbody>\n",
              "    <tr>\n",
              "      <th>0</th>\n",
              "      <td>39</td>\n",
              "      <td>State-gov</td>\n",
              "      <td>77516</td>\n",
              "      <td>Bachelors</td>\n",
              "      <td>13</td>\n",
              "      <td>Never-married</td>\n",
              "      <td>Adm-clerical</td>\n",
              "      <td>Not-in-family</td>\n",
              "      <td>White</td>\n",
              "      <td>Male</td>\n",
              "      <td>2174</td>\n",
              "      <td>0</td>\n",
              "      <td>40</td>\n",
              "      <td>United-States</td>\n",
              "      <td>&lt;=50K</td>\n",
              "    </tr>\n",
              "    <tr>\n",
              "      <th>2</th>\n",
              "      <td>38</td>\n",
              "      <td>Private</td>\n",
              "      <td>215646</td>\n",
              "      <td>HS-grad</td>\n",
              "      <td>9</td>\n",
              "      <td>Divorced</td>\n",
              "      <td>Handlers-cleaners</td>\n",
              "      <td>Not-in-family</td>\n",
              "      <td>White</td>\n",
              "      <td>Male</td>\n",
              "      <td>0</td>\n",
              "      <td>0</td>\n",
              "      <td>40</td>\n",
              "      <td>United-States</td>\n",
              "      <td>&lt;=50K</td>\n",
              "    </tr>\n",
              "    <tr>\n",
              "      <th>4</th>\n",
              "      <td>28</td>\n",
              "      <td>Private</td>\n",
              "      <td>338409</td>\n",
              "      <td>Bachelors</td>\n",
              "      <td>13</td>\n",
              "      <td>Married-civ-spouse</td>\n",
              "      <td>Prof-specialty</td>\n",
              "      <td>Wife</td>\n",
              "      <td>Black</td>\n",
              "      <td>Female</td>\n",
              "      <td>0</td>\n",
              "      <td>0</td>\n",
              "      <td>40</td>\n",
              "      <td>Cuba</td>\n",
              "      <td>&lt;=50K</td>\n",
              "    </tr>\n",
              "    <tr>\n",
              "      <th>5</th>\n",
              "      <td>37</td>\n",
              "      <td>Private</td>\n",
              "      <td>284582</td>\n",
              "      <td>Masters</td>\n",
              "      <td>14</td>\n",
              "      <td>Married-civ-spouse</td>\n",
              "      <td>Exec-managerial</td>\n",
              "      <td>Wife</td>\n",
              "      <td>White</td>\n",
              "      <td>Female</td>\n",
              "      <td>0</td>\n",
              "      <td>0</td>\n",
              "      <td>40</td>\n",
              "      <td>United-States</td>\n",
              "      <td>&lt;=50K</td>\n",
              "    </tr>\n",
              "    <tr>\n",
              "      <th>8</th>\n",
              "      <td>31</td>\n",
              "      <td>Private</td>\n",
              "      <td>45781</td>\n",
              "      <td>Masters</td>\n",
              "      <td>14</td>\n",
              "      <td>Never-married</td>\n",
              "      <td>Prof-specialty</td>\n",
              "      <td>Not-in-family</td>\n",
              "      <td>White</td>\n",
              "      <td>Female</td>\n",
              "      <td>14084</td>\n",
              "      <td>0</td>\n",
              "      <td>50</td>\n",
              "      <td>United-States</td>\n",
              "      <td>&gt;50K</td>\n",
              "    </tr>\n",
              "    <tr>\n",
              "      <th>...</th>\n",
              "      <td>...</td>\n",
              "      <td>...</td>\n",
              "      <td>...</td>\n",
              "      <td>...</td>\n",
              "      <td>...</td>\n",
              "      <td>...</td>\n",
              "      <td>...</td>\n",
              "      <td>...</td>\n",
              "      <td>...</td>\n",
              "      <td>...</td>\n",
              "      <td>...</td>\n",
              "      <td>...</td>\n",
              "      <td>...</td>\n",
              "      <td>...</td>\n",
              "      <td>...</td>\n",
              "    </tr>\n",
              "    <tr>\n",
              "      <th>32551</th>\n",
              "      <td>32</td>\n",
              "      <td>Private</td>\n",
              "      <td>34066</td>\n",
              "      <td>10th</td>\n",
              "      <td>6</td>\n",
              "      <td>Married-civ-spouse</td>\n",
              "      <td>Handlers-cleaners</td>\n",
              "      <td>Husband</td>\n",
              "      <td>Amer-Indian-Eskimo</td>\n",
              "      <td>Male</td>\n",
              "      <td>0</td>\n",
              "      <td>0</td>\n",
              "      <td>40</td>\n",
              "      <td>United-States</td>\n",
              "      <td>&lt;=50K</td>\n",
              "    </tr>\n",
              "    <tr>\n",
              "      <th>32553</th>\n",
              "      <td>32</td>\n",
              "      <td>Private</td>\n",
              "      <td>116138</td>\n",
              "      <td>Masters</td>\n",
              "      <td>14</td>\n",
              "      <td>Never-married</td>\n",
              "      <td>Tech-support</td>\n",
              "      <td>Not-in-family</td>\n",
              "      <td>Asian-Pac-Islander</td>\n",
              "      <td>Male</td>\n",
              "      <td>0</td>\n",
              "      <td>0</td>\n",
              "      <td>11</td>\n",
              "      <td>Taiwan</td>\n",
              "      <td>&lt;=50K</td>\n",
              "    </tr>\n",
              "    <tr>\n",
              "      <th>32555</th>\n",
              "      <td>22</td>\n",
              "      <td>Private</td>\n",
              "      <td>310152</td>\n",
              "      <td>Some-college</td>\n",
              "      <td>10</td>\n",
              "      <td>Never-married</td>\n",
              "      <td>Protective-serv</td>\n",
              "      <td>Not-in-family</td>\n",
              "      <td>White</td>\n",
              "      <td>Male</td>\n",
              "      <td>0</td>\n",
              "      <td>0</td>\n",
              "      <td>40</td>\n",
              "      <td>United-States</td>\n",
              "      <td>&lt;=50K</td>\n",
              "    </tr>\n",
              "    <tr>\n",
              "      <th>32556</th>\n",
              "      <td>27</td>\n",
              "      <td>Private</td>\n",
              "      <td>257302</td>\n",
              "      <td>Assoc-acdm</td>\n",
              "      <td>12</td>\n",
              "      <td>Married-civ-spouse</td>\n",
              "      <td>Tech-support</td>\n",
              "      <td>Wife</td>\n",
              "      <td>White</td>\n",
              "      <td>Female</td>\n",
              "      <td>0</td>\n",
              "      <td>0</td>\n",
              "      <td>38</td>\n",
              "      <td>United-States</td>\n",
              "      <td>&lt;=50K</td>\n",
              "    </tr>\n",
              "    <tr>\n",
              "      <th>32559</th>\n",
              "      <td>22</td>\n",
              "      <td>Private</td>\n",
              "      <td>201490</td>\n",
              "      <td>HS-grad</td>\n",
              "      <td>9</td>\n",
              "      <td>Never-married</td>\n",
              "      <td>Adm-clerical</td>\n",
              "      <td>Own-child</td>\n",
              "      <td>White</td>\n",
              "      <td>Male</td>\n",
              "      <td>0</td>\n",
              "      <td>0</td>\n",
              "      <td>20</td>\n",
              "      <td>United-States</td>\n",
              "      <td>&lt;=50K</td>\n",
              "    </tr>\n",
              "  </tbody>\n",
              "</table>\n",
              "<p>18324 rows × 15 columns</p>\n",
              "</div>\n",
              "      <button class=\"colab-df-convert\" onclick=\"convertToInteractive('df-94e4046c-dfd5-4a80-9fc8-18319b85b38a')\"\n",
              "              title=\"Convert this dataframe to an interactive table.\"\n",
              "              style=\"display:none;\">\n",
              "        \n",
              "  <svg xmlns=\"http://www.w3.org/2000/svg\" height=\"24px\"viewBox=\"0 0 24 24\"\n",
              "       width=\"24px\">\n",
              "    <path d=\"M0 0h24v24H0V0z\" fill=\"none\"/>\n",
              "    <path d=\"M18.56 5.44l.94 2.06.94-2.06 2.06-.94-2.06-.94-.94-2.06-.94 2.06-2.06.94zm-11 1L8.5 8.5l.94-2.06 2.06-.94-2.06-.94L8.5 2.5l-.94 2.06-2.06.94zm10 10l.94 2.06.94-2.06 2.06-.94-2.06-.94-.94-2.06-.94 2.06-2.06.94z\"/><path d=\"M17.41 7.96l-1.37-1.37c-.4-.4-.92-.59-1.43-.59-.52 0-1.04.2-1.43.59L10.3 9.45l-7.72 7.72c-.78.78-.78 2.05 0 2.83L4 21.41c.39.39.9.59 1.41.59.51 0 1.02-.2 1.41-.59l7.78-7.78 2.81-2.81c.8-.78.8-2.07 0-2.86zM5.41 20L4 18.59l7.72-7.72 1.47 1.35L5.41 20z\"/>\n",
              "  </svg>\n",
              "      </button>\n",
              "      \n",
              "  <style>\n",
              "    .colab-df-container {\n",
              "      display:flex;\n",
              "      flex-wrap:wrap;\n",
              "      gap: 12px;\n",
              "    }\n",
              "\n",
              "    .colab-df-convert {\n",
              "      background-color: #E8F0FE;\n",
              "      border: none;\n",
              "      border-radius: 50%;\n",
              "      cursor: pointer;\n",
              "      display: none;\n",
              "      fill: #1967D2;\n",
              "      height: 32px;\n",
              "      padding: 0 0 0 0;\n",
              "      width: 32px;\n",
              "    }\n",
              "\n",
              "    .colab-df-convert:hover {\n",
              "      background-color: #E2EBFA;\n",
              "      box-shadow: 0px 1px 2px rgba(60, 64, 67, 0.3), 0px 1px 3px 1px rgba(60, 64, 67, 0.15);\n",
              "      fill: #174EA6;\n",
              "    }\n",
              "\n",
              "    [theme=dark] .colab-df-convert {\n",
              "      background-color: #3B4455;\n",
              "      fill: #D2E3FC;\n",
              "    }\n",
              "\n",
              "    [theme=dark] .colab-df-convert:hover {\n",
              "      background-color: #434B5C;\n",
              "      box-shadow: 0px 1px 3px 1px rgba(0, 0, 0, 0.15);\n",
              "      filter: drop-shadow(0px 1px 2px rgba(0, 0, 0, 0.3));\n",
              "      fill: #FFFFFF;\n",
              "    }\n",
              "  </style>\n",
              "\n",
              "      <script>\n",
              "        const buttonEl =\n",
              "          document.querySelector('#df-94e4046c-dfd5-4a80-9fc8-18319b85b38a button.colab-df-convert');\n",
              "        buttonEl.style.display =\n",
              "          google.colab.kernel.accessAllowed ? 'block' : 'none';\n",
              "\n",
              "        async function convertToInteractive(key) {\n",
              "          const element = document.querySelector('#df-94e4046c-dfd5-4a80-9fc8-18319b85b38a');\n",
              "          const dataTable =\n",
              "            await google.colab.kernel.invokeFunction('convertToInteractive',\n",
              "                                                     [key], {});\n",
              "          if (!dataTable) return;\n",
              "\n",
              "          const docLinkHtml = 'Like what you see? Visit the ' +\n",
              "            '<a target=\"_blank\" href=https://colab.research.google.com/notebooks/data_table.ipynb>data table notebook</a>'\n",
              "            + ' to learn more about interactive tables.';\n",
              "          element.innerHTML = '';\n",
              "          dataTable['output_type'] = 'display_data';\n",
              "          await google.colab.output.renderOutput(dataTable, element);\n",
              "          const docLink = document.createElement('div');\n",
              "          docLink.innerHTML = docLinkHtml;\n",
              "          element.appendChild(docLink);\n",
              "        }\n",
              "      </script>\n",
              "    </div>\n",
              "  </div>\n",
              "  "
            ]
          },
          "metadata": {},
          "execution_count": 41
        }
      ]
    },
    {
      "cell_type": "code",
      "source": [
        "# In order to remove rows based on any such condition, all we need to do is this:\n",
        "df.drop(df[df['age'] < 40].index)"
      ],
      "metadata": {
        "id": "pQrhIs_2MUEn",
        "colab": {
          "base_uri": "https://localhost:8080/",
          "height": 852
        },
        "outputId": "23f89b99-1bbc-4e1e-c624-5afe2bdbd421"
      },
      "execution_count": null,
      "outputs": [
        {
          "output_type": "execute_result",
          "data": {
            "text/plain": [
              "       age          workclass  fnlwgt   education  education-num  \\\n",
              "1       50   Self-emp-not-inc   83311   Bachelors             13   \n",
              "3       53            Private  234721        11th              7   \n",
              "6       49            Private  160187         9th              5   \n",
              "7       52   Self-emp-not-inc  209642     HS-grad              9   \n",
              "9       42            Private  159449   Bachelors             13   \n",
              "...    ...                ...     ...         ...            ...   \n",
              "32552   43            Private   84661   Assoc-voc             11   \n",
              "32554   53            Private  321865     Masters             14   \n",
              "32557   40            Private  154374     HS-grad              9   \n",
              "32558   58            Private  151910     HS-grad              9   \n",
              "32560   52       Self-emp-inc  287927     HS-grad              9   \n",
              "\n",
              "               marital-status          occupation    relationship    race  \\\n",
              "1          Married-civ-spouse     Exec-managerial         Husband   White   \n",
              "3          Married-civ-spouse   Handlers-cleaners         Husband   Black   \n",
              "6       Married-spouse-absent       Other-service   Not-in-family   Black   \n",
              "7          Married-civ-spouse     Exec-managerial         Husband   White   \n",
              "9          Married-civ-spouse     Exec-managerial         Husband   White   \n",
              "...                       ...                 ...             ...     ...   \n",
              "32552      Married-civ-spouse               Sales         Husband   White   \n",
              "32554      Married-civ-spouse     Exec-managerial         Husband   White   \n",
              "32557      Married-civ-spouse   Machine-op-inspct         Husband   White   \n",
              "32558                 Widowed        Adm-clerical       Unmarried   White   \n",
              "32560      Married-civ-spouse     Exec-managerial            Wife   White   \n",
              "\n",
              "           sex  capital-gain  capital-loss  hours-per-week  native-country  \\\n",
              "1         Male             0             0              13   United-States   \n",
              "3         Male             0             0              40   United-States   \n",
              "6       Female             0             0              16         Jamaica   \n",
              "7         Male             0             0              45   United-States   \n",
              "9         Male          5178             0              40   United-States   \n",
              "...        ...           ...           ...             ...             ...   \n",
              "32552     Male             0             0              45   United-States   \n",
              "32554     Male             0             0              40   United-States   \n",
              "32557     Male             0             0              40   United-States   \n",
              "32558   Female             0             0              40   United-States   \n",
              "32560   Female         15024             0              40   United-States   \n",
              "\n",
              "      outcome  \n",
              "1       <=50K  \n",
              "3       <=50K  \n",
              "6       <=50K  \n",
              "7        >50K  \n",
              "9        >50K  \n",
              "...       ...  \n",
              "32552   <=50K  \n",
              "32554    >50K  \n",
              "32557    >50K  \n",
              "32558   <=50K  \n",
              "32560    >50K  \n",
              "\n",
              "[14237 rows x 15 columns]"
            ],
            "text/html": [
              "\n",
              "  <div id=\"df-0a8c4642-f9c9-4ef9-937d-4e920f8ac0f8\">\n",
              "    <div class=\"colab-df-container\">\n",
              "      <div>\n",
              "<style scoped>\n",
              "    .dataframe tbody tr th:only-of-type {\n",
              "        vertical-align: middle;\n",
              "    }\n",
              "\n",
              "    .dataframe tbody tr th {\n",
              "        vertical-align: top;\n",
              "    }\n",
              "\n",
              "    .dataframe thead th {\n",
              "        text-align: right;\n",
              "    }\n",
              "</style>\n",
              "<table border=\"1\" class=\"dataframe\">\n",
              "  <thead>\n",
              "    <tr style=\"text-align: right;\">\n",
              "      <th></th>\n",
              "      <th>age</th>\n",
              "      <th>workclass</th>\n",
              "      <th>fnlwgt</th>\n",
              "      <th>education</th>\n",
              "      <th>education-num</th>\n",
              "      <th>marital-status</th>\n",
              "      <th>occupation</th>\n",
              "      <th>relationship</th>\n",
              "      <th>race</th>\n",
              "      <th>sex</th>\n",
              "      <th>capital-gain</th>\n",
              "      <th>capital-loss</th>\n",
              "      <th>hours-per-week</th>\n",
              "      <th>native-country</th>\n",
              "      <th>outcome</th>\n",
              "    </tr>\n",
              "  </thead>\n",
              "  <tbody>\n",
              "    <tr>\n",
              "      <th>1</th>\n",
              "      <td>50</td>\n",
              "      <td>Self-emp-not-inc</td>\n",
              "      <td>83311</td>\n",
              "      <td>Bachelors</td>\n",
              "      <td>13</td>\n",
              "      <td>Married-civ-spouse</td>\n",
              "      <td>Exec-managerial</td>\n",
              "      <td>Husband</td>\n",
              "      <td>White</td>\n",
              "      <td>Male</td>\n",
              "      <td>0</td>\n",
              "      <td>0</td>\n",
              "      <td>13</td>\n",
              "      <td>United-States</td>\n",
              "      <td>&lt;=50K</td>\n",
              "    </tr>\n",
              "    <tr>\n",
              "      <th>3</th>\n",
              "      <td>53</td>\n",
              "      <td>Private</td>\n",
              "      <td>234721</td>\n",
              "      <td>11th</td>\n",
              "      <td>7</td>\n",
              "      <td>Married-civ-spouse</td>\n",
              "      <td>Handlers-cleaners</td>\n",
              "      <td>Husband</td>\n",
              "      <td>Black</td>\n",
              "      <td>Male</td>\n",
              "      <td>0</td>\n",
              "      <td>0</td>\n",
              "      <td>40</td>\n",
              "      <td>United-States</td>\n",
              "      <td>&lt;=50K</td>\n",
              "    </tr>\n",
              "    <tr>\n",
              "      <th>6</th>\n",
              "      <td>49</td>\n",
              "      <td>Private</td>\n",
              "      <td>160187</td>\n",
              "      <td>9th</td>\n",
              "      <td>5</td>\n",
              "      <td>Married-spouse-absent</td>\n",
              "      <td>Other-service</td>\n",
              "      <td>Not-in-family</td>\n",
              "      <td>Black</td>\n",
              "      <td>Female</td>\n",
              "      <td>0</td>\n",
              "      <td>0</td>\n",
              "      <td>16</td>\n",
              "      <td>Jamaica</td>\n",
              "      <td>&lt;=50K</td>\n",
              "    </tr>\n",
              "    <tr>\n",
              "      <th>7</th>\n",
              "      <td>52</td>\n",
              "      <td>Self-emp-not-inc</td>\n",
              "      <td>209642</td>\n",
              "      <td>HS-grad</td>\n",
              "      <td>9</td>\n",
              "      <td>Married-civ-spouse</td>\n",
              "      <td>Exec-managerial</td>\n",
              "      <td>Husband</td>\n",
              "      <td>White</td>\n",
              "      <td>Male</td>\n",
              "      <td>0</td>\n",
              "      <td>0</td>\n",
              "      <td>45</td>\n",
              "      <td>United-States</td>\n",
              "      <td>&gt;50K</td>\n",
              "    </tr>\n",
              "    <tr>\n",
              "      <th>9</th>\n",
              "      <td>42</td>\n",
              "      <td>Private</td>\n",
              "      <td>159449</td>\n",
              "      <td>Bachelors</td>\n",
              "      <td>13</td>\n",
              "      <td>Married-civ-spouse</td>\n",
              "      <td>Exec-managerial</td>\n",
              "      <td>Husband</td>\n",
              "      <td>White</td>\n",
              "      <td>Male</td>\n",
              "      <td>5178</td>\n",
              "      <td>0</td>\n",
              "      <td>40</td>\n",
              "      <td>United-States</td>\n",
              "      <td>&gt;50K</td>\n",
              "    </tr>\n",
              "    <tr>\n",
              "      <th>...</th>\n",
              "      <td>...</td>\n",
              "      <td>...</td>\n",
              "      <td>...</td>\n",
              "      <td>...</td>\n",
              "      <td>...</td>\n",
              "      <td>...</td>\n",
              "      <td>...</td>\n",
              "      <td>...</td>\n",
              "      <td>...</td>\n",
              "      <td>...</td>\n",
              "      <td>...</td>\n",
              "      <td>...</td>\n",
              "      <td>...</td>\n",
              "      <td>...</td>\n",
              "      <td>...</td>\n",
              "    </tr>\n",
              "    <tr>\n",
              "      <th>32552</th>\n",
              "      <td>43</td>\n",
              "      <td>Private</td>\n",
              "      <td>84661</td>\n",
              "      <td>Assoc-voc</td>\n",
              "      <td>11</td>\n",
              "      <td>Married-civ-spouse</td>\n",
              "      <td>Sales</td>\n",
              "      <td>Husband</td>\n",
              "      <td>White</td>\n",
              "      <td>Male</td>\n",
              "      <td>0</td>\n",
              "      <td>0</td>\n",
              "      <td>45</td>\n",
              "      <td>United-States</td>\n",
              "      <td>&lt;=50K</td>\n",
              "    </tr>\n",
              "    <tr>\n",
              "      <th>32554</th>\n",
              "      <td>53</td>\n",
              "      <td>Private</td>\n",
              "      <td>321865</td>\n",
              "      <td>Masters</td>\n",
              "      <td>14</td>\n",
              "      <td>Married-civ-spouse</td>\n",
              "      <td>Exec-managerial</td>\n",
              "      <td>Husband</td>\n",
              "      <td>White</td>\n",
              "      <td>Male</td>\n",
              "      <td>0</td>\n",
              "      <td>0</td>\n",
              "      <td>40</td>\n",
              "      <td>United-States</td>\n",
              "      <td>&gt;50K</td>\n",
              "    </tr>\n",
              "    <tr>\n",
              "      <th>32557</th>\n",
              "      <td>40</td>\n",
              "      <td>Private</td>\n",
              "      <td>154374</td>\n",
              "      <td>HS-grad</td>\n",
              "      <td>9</td>\n",
              "      <td>Married-civ-spouse</td>\n",
              "      <td>Machine-op-inspct</td>\n",
              "      <td>Husband</td>\n",
              "      <td>White</td>\n",
              "      <td>Male</td>\n",
              "      <td>0</td>\n",
              "      <td>0</td>\n",
              "      <td>40</td>\n",
              "      <td>United-States</td>\n",
              "      <td>&gt;50K</td>\n",
              "    </tr>\n",
              "    <tr>\n",
              "      <th>32558</th>\n",
              "      <td>58</td>\n",
              "      <td>Private</td>\n",
              "      <td>151910</td>\n",
              "      <td>HS-grad</td>\n",
              "      <td>9</td>\n",
              "      <td>Widowed</td>\n",
              "      <td>Adm-clerical</td>\n",
              "      <td>Unmarried</td>\n",
              "      <td>White</td>\n",
              "      <td>Female</td>\n",
              "      <td>0</td>\n",
              "      <td>0</td>\n",
              "      <td>40</td>\n",
              "      <td>United-States</td>\n",
              "      <td>&lt;=50K</td>\n",
              "    </tr>\n",
              "    <tr>\n",
              "      <th>32560</th>\n",
              "      <td>52</td>\n",
              "      <td>Self-emp-inc</td>\n",
              "      <td>287927</td>\n",
              "      <td>HS-grad</td>\n",
              "      <td>9</td>\n",
              "      <td>Married-civ-spouse</td>\n",
              "      <td>Exec-managerial</td>\n",
              "      <td>Wife</td>\n",
              "      <td>White</td>\n",
              "      <td>Female</td>\n",
              "      <td>15024</td>\n",
              "      <td>0</td>\n",
              "      <td>40</td>\n",
              "      <td>United-States</td>\n",
              "      <td>&gt;50K</td>\n",
              "    </tr>\n",
              "  </tbody>\n",
              "</table>\n",
              "<p>14237 rows × 15 columns</p>\n",
              "</div>\n",
              "      <button class=\"colab-df-convert\" onclick=\"convertToInteractive('df-0a8c4642-f9c9-4ef9-937d-4e920f8ac0f8')\"\n",
              "              title=\"Convert this dataframe to an interactive table.\"\n",
              "              style=\"display:none;\">\n",
              "        \n",
              "  <svg xmlns=\"http://www.w3.org/2000/svg\" height=\"24px\"viewBox=\"0 0 24 24\"\n",
              "       width=\"24px\">\n",
              "    <path d=\"M0 0h24v24H0V0z\" fill=\"none\"/>\n",
              "    <path d=\"M18.56 5.44l.94 2.06.94-2.06 2.06-.94-2.06-.94-.94-2.06-.94 2.06-2.06.94zm-11 1L8.5 8.5l.94-2.06 2.06-.94-2.06-.94L8.5 2.5l-.94 2.06-2.06.94zm10 10l.94 2.06.94-2.06 2.06-.94-2.06-.94-.94-2.06-.94 2.06-2.06.94z\"/><path d=\"M17.41 7.96l-1.37-1.37c-.4-.4-.92-.59-1.43-.59-.52 0-1.04.2-1.43.59L10.3 9.45l-7.72 7.72c-.78.78-.78 2.05 0 2.83L4 21.41c.39.39.9.59 1.41.59.51 0 1.02-.2 1.41-.59l7.78-7.78 2.81-2.81c.8-.78.8-2.07 0-2.86zM5.41 20L4 18.59l7.72-7.72 1.47 1.35L5.41 20z\"/>\n",
              "  </svg>\n",
              "      </button>\n",
              "      \n",
              "  <style>\n",
              "    .colab-df-container {\n",
              "      display:flex;\n",
              "      flex-wrap:wrap;\n",
              "      gap: 12px;\n",
              "    }\n",
              "\n",
              "    .colab-df-convert {\n",
              "      background-color: #E8F0FE;\n",
              "      border: none;\n",
              "      border-radius: 50%;\n",
              "      cursor: pointer;\n",
              "      display: none;\n",
              "      fill: #1967D2;\n",
              "      height: 32px;\n",
              "      padding: 0 0 0 0;\n",
              "      width: 32px;\n",
              "    }\n",
              "\n",
              "    .colab-df-convert:hover {\n",
              "      background-color: #E2EBFA;\n",
              "      box-shadow: 0px 1px 2px rgba(60, 64, 67, 0.3), 0px 1px 3px 1px rgba(60, 64, 67, 0.15);\n",
              "      fill: #174EA6;\n",
              "    }\n",
              "\n",
              "    [theme=dark] .colab-df-convert {\n",
              "      background-color: #3B4455;\n",
              "      fill: #D2E3FC;\n",
              "    }\n",
              "\n",
              "    [theme=dark] .colab-df-convert:hover {\n",
              "      background-color: #434B5C;\n",
              "      box-shadow: 0px 1px 3px 1px rgba(0, 0, 0, 0.15);\n",
              "      filter: drop-shadow(0px 1px 2px rgba(0, 0, 0, 0.3));\n",
              "      fill: #FFFFFF;\n",
              "    }\n",
              "  </style>\n",
              "\n",
              "      <script>\n",
              "        const buttonEl =\n",
              "          document.querySelector('#df-0a8c4642-f9c9-4ef9-937d-4e920f8ac0f8 button.colab-df-convert');\n",
              "        buttonEl.style.display =\n",
              "          google.colab.kernel.accessAllowed ? 'block' : 'none';\n",
              "\n",
              "        async function convertToInteractive(key) {\n",
              "          const element = document.querySelector('#df-0a8c4642-f9c9-4ef9-937d-4e920f8ac0f8');\n",
              "          const dataTable =\n",
              "            await google.colab.kernel.invokeFunction('convertToInteractive',\n",
              "                                                     [key], {});\n",
              "          if (!dataTable) return;\n",
              "\n",
              "          const docLinkHtml = 'Like what you see? Visit the ' +\n",
              "            '<a target=\"_blank\" href=https://colab.research.google.com/notebooks/data_table.ipynb>data table notebook</a>'\n",
              "            + ' to learn more about interactive tables.';\n",
              "          element.innerHTML = '';\n",
              "          dataTable['output_type'] = 'display_data';\n",
              "          await google.colab.output.renderOutput(dataTable, element);\n",
              "          const docLink = document.createElement('div');\n",
              "          docLink.innerHTML = docLinkHtml;\n",
              "          element.appendChild(docLink);\n",
              "        }\n",
              "      </script>\n",
              "    </div>\n",
              "  </div>\n",
              "  "
            ]
          },
          "metadata": {},
          "execution_count": 42
        }
      ]
    },
    {
      "cell_type": "code",
      "source": [
        "# Plotting values is also very direct using pandas\n",
        "# Let's plot the count of different relationship status of people in the dataset\n",
        "df['relationship'].value_counts().plot(kind='barh')"
      ],
      "metadata": {
        "id": "FQoyB5dzMrrg",
        "colab": {
          "base_uri": "https://localhost:8080/",
          "height": 282
        },
        "outputId": "2adf2af1-b119-48f1-9333-5d0b8699cfa9"
      },
      "execution_count": null,
      "outputs": [
        {
          "output_type": "execute_result",
          "data": {
            "text/plain": [
              "<matplotlib.axes._subplots.AxesSubplot at 0x7f0d71e08520>"
            ]
          },
          "metadata": {},
          "execution_count": 44
        },
        {
          "output_type": "display_data",
          "data": {
            "text/plain": [
              "<Figure size 432x288 with 1 Axes>"
            ],
            "image/png": "[encoded data removed]"
          },
          "metadata": {
            "needs_background": "light"
          }
        }
      ]
    },
    {
      "cell_type": "markdown",
      "source": [
        "You can also try out different visualizations by looking up examples [here](https://pandas.pydata.org/docs/reference/api/pandas.DataFrame.plot.html)."
      ],
      "metadata": {
        "id": "WKpgphC_OiUy"
      }
    },
    {
      "cell_type": "markdown",
      "metadata": {
        "id": "v_LfC-q7Z0Nf"
      },
      "source": [
        "## NumPy\n",
        "\n",
        "This lab relies on a number of standard scientific computing Python packages. The most important of these is NumPy (Numerical Python, commonly imported as `np`), which is a Python package for numerical computing. We'll briefly cover common numpy functions and syntax; you can find a more in-depth guide [here](https://numpy.org/doc/stable/user/quickstart.html) and you can always consult the documentation or Google if you're confused about a function.\n",
        "\n",
        "The core object of numpy is the `array`, which is similar an ordinary Python list. Numpy arrays are frequently multi-dimensional (like a list of lists), and we call each dimension an axis.\n",
        "\n",
        "You can create numpy arrays through a variety of ways:"
      ]
    },
    {
      "cell_type": "code",
      "metadata": {
        "id": "bJ89KYLMZ0Nh",
        "colab": {
          "base_uri": "https://localhost:8080/"
        },
        "outputId": "ed7e1ec3-6743-49ee-bfe6-1675b697150a"
      },
      "source": [
        "import numpy as np\n",
        "from numpy.random import default_rng\n",
        "\n",
        "# call np.array on a valid Python list\n",
        "array = np.array([[1, 2, 3], [4, 5, 6]])\n",
        "print(\"Array 1:\\n\", array, \"\\n\")\n",
        "\n",
        "# initialize an array of all zeroes or ones\n",
        "array = np.zeros((3, 4)) # where (3,4) is the shape of the array\n",
        "print(\"Array 2:\\n\", array, \"\\n\")\n",
        "\n",
        "array = np.ones((3, 4, 5)) # where (3, 4, 5) is the shape of the array\n",
        "print(\"Array 3:\\n\", array, \"\\n\")\n",
        "\n",
        "# initialize an array from a particular distribution\n",
        "rng = default_rng()\n",
        "array = rng.normal(loc=0.0, scale=1.0, size=(4, 4))  # uses a normal distribution with a mean at 0 and standard deviation of 1.0\n",
        "print(\"Array 4:\\n\", array)"
      ],
      "execution_count": null,
      "outputs": [
        {
          "output_type": "stream",
          "name": "stdout",
          "text": [
            "Array 4:\n",
            " [[ 0.77627983 -0.55208121  1.26544983 -1.00674279]\n",
            " [ 0.90885235 -0.66261727  1.21122075 -0.30953633]\n",
            " [ 1.26966238  0.30338782 -0.35568685 -0.68932556]\n",
            " [ 0.46059206 -1.88992167  0.49387506  0.06302839]]\n"
          ]
        }
      ]
    },
    {
      "cell_type": "markdown",
      "metadata": {
        "id": "zqQwTd1NMmU-"
      },
      "source": [
        "Unlike Python lists, numpy arrays must\n",
        "* have the same number of elements along each dimension (e.g. `[[1], [2,3]]` would not be a valid numpy array).\n",
        "* have all elements be of the same type\n",
        "\n",
        "We can check the type and shape (dimensions) of an array using built-in numpy attributes of arrays."
      ]
    },
    {
      "cell_type": "code",
      "metadata": {
        "id": "4_7fKA1sMW2j",
        "colab": {
          "base_uri": "https://localhost:8080/"
        },
        "outputId": "239e5771-23cc-4eec-d677-978299253f87"
      },
      "source": [
        "array = np.array([[[1], [2]], [[3], [4]], [[5], [6]]])\n",
        "print(array)\n",
        "print(\"Data type:\", array.dtype)\n",
        "print(\"# dimensions:\", array.ndim)\n",
        "print(\"Shape/size of array:\", array.shape)\n",
        "print(\"# elements:\", array.size)"
      ],
      "execution_count": null,
      "outputs": [
        {
          "output_type": "stream",
          "name": "stdout",
          "text": [
            "[[[1]\n",
            "  [2]]\n",
            "\n",
            " [[3]\n",
            "  [4]]\n",
            "\n",
            " [[5]\n",
            "  [6]]]\n",
            "Data type: int64\n",
            "# dimensions: 3\n",
            "Shape/size of array: (3, 2, 1)\n",
            "# elements: 6\n"
          ]
        }
      ]
    },
    {
      "cell_type": "markdown",
      "metadata": {
        "id": "ojQsAsG4-amU"
      },
      "source": [
        "We can access specific elements of an array using braces (like Python lists) and colons (slices)."
      ]
    },
    {
      "cell_type": "code",
      "metadata": {
        "id": "jtSHq0kfNvzS",
        "colab": {
          "base_uri": "https://localhost:8080/"
        },
        "outputId": "68358422-c547-4fef-fcbc-a7f68146a848"
      },
      "source": [
        "array = np.arange(24).reshape(4, 6)\n",
        "\n",
        "print(\"Array:\\n\", array)\n",
        "print(\"Element 1, 2: \", array[1, 2]) # access one element\n",
        "\n",
        "print(\"Row 1:\", array[0]) # access a row\n",
        "print(\"Column 2:\", array[:, 1]) # access a column, using slice notation (:)\n",
        "\n",
        "print(\"2nd-4th row, 1st-3rd col:\\n\", array[1:3, 0:2]) # partial rows and cols\n",
        "\n",
        "# accessing elements using an array\n",
        "print(\"Selecting one element from each row of array using indices in ind:\")\n",
        "inds = np.array([0, 2, 0, 1])\n",
        "print(array[[0, 1, 2, 3], [0, 2, 0, 1]])  # Prints \"[ 0  8  12 19]\"\n",
        "print(\"-----\")"
      ],
      "execution_count": null,
      "outputs": [
        {
          "output_type": "stream",
          "name": "stdout",
          "text": [
            "Array:\n",
            " [[ 0  1  2  3  4  5]\n",
            " [ 6  7  8  9 10 11]\n",
            " [12 13 14 15 16 17]\n",
            " [18 19 20 21 22 23]]\n",
            "Element 1, 2:  8\n",
            "Row 1: [0 1 2 3 4 5]\n",
            "Column 2: [ 1  7 13 19]\n",
            "2nd-4th row, 1st-3rd col:\n",
            " [[ 6  7]\n",
            " [12 13]]\n",
            "Selecting one element from each row of array using indices in ind:\n",
            "[ 0  8 12 19]\n",
            "-----\n"
          ]
        }
      ]
    },
    {
      "cell_type": "markdown",
      "metadata": {
        "id": "0xPLlKYxJ8P6"
      },
      "source": [
        "Numpy arrays contain many useful functions as built-in methods for arrays. For example, one of the most useful is `array.sum()`. Other useful methods include `min(), max(), argmin(), argmax(), mean(), std()`. All of these methods take in an `axis` argument that specifies the dimension along which to perform the operation."
      ]
    },
    {
      "cell_type": "code",
      "metadata": {
        "id": "uk7CcR_JJ4p_",
        "colab": {
          "base_uri": "https://localhost:8080/"
        },
        "outputId": "d4ba2c56-5dc8-4f14-f836-9a357d9bdaa5"
      },
      "source": [
        "x = np.array([[1,2], [3,4]])\n",
        "print(\"x: \\n\", x)\n",
        "print(\"-----\")\n",
        "print(\"Compute sum of all elements in x: \", np.sum(x))  # Compute sum of all elements; prints \"10\"\n",
        "print(\"-----\")\n",
        "print(\"Compute sum of each column in x:\", np.sum(x, axis=0))  # Compute sum of each column; prints \"[4 6]\"\n",
        "print(\"-----\")\n",
        "print(\"Compute sum of each row in x: \", np.sum(x, axis=1))  # Compute sum of each row; prints \"[3 7]\"\n",
        "print(\"-----\")"
      ],
      "execution_count": null,
      "outputs": [
        {
          "output_type": "stream",
          "name": "stdout",
          "text": [
            "x: \n",
            " [[1 2]\n",
            " [3 4]]\n",
            "-----\n",
            "Compute sum of all elements in x:  10\n",
            "-----\n",
            "Compute sum of each column in x: [4 6]\n",
            "-----\n",
            "Compute sum of each row in x:  [3 7]\n",
            "-----\n"
          ]
        }
      ]
    },
    {
      "cell_type": "markdown",
      "metadata": {
        "id": "_jorliwCSC2D"
      },
      "source": [
        "We can transform arrays using Python built-in math operators, as well as more complex math operators in numpy, such as `np.power(), np.exp(), np.sqrt(), np.cos()`, etc."
      ]
    },
    {
      "cell_type": "code",
      "metadata": {
        "id": "uy-luRJUSEdL",
        "colab": {
          "base_uri": "https://localhost:8080/"
        },
        "outputId": "95562a35-c95b-442f-e220-53157acdaba4"
      },
      "source": [
        "array = np.arange(9).reshape((3,3))\n",
        "print(\"Array 1:\\n\", array, \"\\n\")\n",
        "\n",
        "# mathematical transformations\n",
        "print(\"Broadcasting\\n\", array + 3, \"\\n\") # add a constant to every value, broadcasting\n",
        "\n",
        "array[0] *= 2 # multiply a row by a constant\n",
        "print(\"Row Multiplication\\n\", array, \"\\n\")\n",
        "array[:, 1] *= 2 # multiply a column by a constant\n",
        "print(\"Column Multiplication\\n\", array, \"\\n\")\n",
        "\n",
        "print(\"Raise element-wise to a power\\n\", np.power(array, 2), \"\\n\") # square every element"
      ],
      "execution_count": null,
      "outputs": [
        {
          "output_type": "stream",
          "name": "stdout",
          "text": [
            "Array 1:\n",
            " [[0 1 2]\n",
            " [3 4 5]\n",
            " [6 7 8]] \n",
            "\n",
            "Broadcasting\n",
            " [[ 3  4  5]\n",
            " [ 6  7  8]\n",
            " [ 9 10 11]] \n",
            "\n",
            "Row Multiplication\n",
            " [[0 2 4]\n",
            " [3 4 5]\n",
            " [6 7 8]] \n",
            "\n",
            "Column Multiplication\n",
            " [[ 0  4  4]\n",
            " [ 3  8  5]\n",
            " [ 6 14  8]] \n",
            "\n",
            "Raise element-wise to a power\n",
            " [[  0  16  16]\n",
            " [  9  64  25]\n",
            " [ 36 196  64]] \n",
            "\n"
          ]
        }
      ]
    },
    {
      "cell_type": "markdown",
      "metadata": {
        "id": "kPE0seexUspH"
      },
      "source": [
        "We can also transform the dimensions and shape of arrays."
      ]
    },
    {
      "cell_type": "code",
      "metadata": {
        "id": "kvhropfrUvyy",
        "colab": {
          "base_uri": "https://localhost:8080/"
        },
        "outputId": "2d109201-d7b1-4a1b-9bd2-a20bc111af1e"
      },
      "source": [
        "# reshaping\n",
        "array = np.arange(9)\n",
        "print(\"Array 0:\\n\", array)\n",
        "print(\"Array 0 shape:\", array.shape)\n",
        "array = array.reshape(3, 3)\n",
        "print(\"Array 0:\\n\", array)\n",
        "print(\"Array 0 shape:\", array.shape)\n",
        "print()\n",
        "\n",
        "array1 = np.arange(9).reshape((3,3))\n",
        "array2 = np.arange(9, 18).reshape((3, 3))\n",
        "print(\"Array 1:\\n\", array1)\n",
        "print(\"Array 2:\\n\", array2, \"\\n\")\n",
        "stack_h = np.hstack((array1, array2))\n",
        "stack_v = np.vstack((array1, array2))\n",
        "print(\"Horizontally stacked array 1 and array 2:\\n\", stack_h)\n",
        "print(\"Vertically stacked array 1 and array 2:\\n\", stack_v)"
      ],
      "execution_count": null,
      "outputs": [
        {
          "output_type": "stream",
          "name": "stdout",
          "text": [
            "Array 0:\n",
            " [0 1 2 3 4 5 6 7 8]\n",
            "Array 0 shape: (9,)\n",
            "Array 0:\n",
            " [[0 1 2]\n",
            " [3 4 5]\n",
            " [6 7 8]]\n",
            "Array 0 shape: (3, 3)\n",
            "\n",
            "Array 1:\n",
            " [[0 1 2]\n",
            " [3 4 5]\n",
            " [6 7 8]]\n",
            "Array 2:\n",
            " [[ 9 10 11]\n",
            " [12 13 14]\n",
            " [15 16 17]] \n",
            "\n",
            "Horizontally stacked array 1 and array 2:\n",
            " [[ 0  1  2  9 10 11]\n",
            " [ 3  4  5 12 13 14]\n",
            " [ 6  7  8 15 16 17]]\n",
            "Vertically stacked array 1 and array 2:\n",
            " [[ 0  1  2]\n",
            " [ 3  4  5]\n",
            " [ 6  7  8]\n",
            " [ 9 10 11]\n",
            " [12 13 14]\n",
            " [15 16 17]]\n"
          ]
        }
      ]
    },
    {
      "cell_type": "markdown",
      "metadata": {
        "id": "heXTvKjE_sbH"
      },
      "source": [
        "We can do all the standard matrix operations using these numpy arrays. Here we show addition, transposing a matrix, matrix multiplication, and matrix inversion."
      ]
    },
    {
      "cell_type": "code",
      "metadata": {
        "id": "qgeR0bdR_1fn",
        "colab": {
          "base_uri": "https://localhost:8080/"
        },
        "outputId": "5dd4b649-a20c-4eb4-ba0f-0f2765c9aadf"
      },
      "source": [
        "A = rng.integers(10, size=(3, 4))\n",
        "B = rng.integers(10, size=(3, 4))\n",
        "print(\"Matrix A:\\n\", A)\n",
        "print(\"\\nMatrix B:\\n\", B)\n",
        "print(\"\\nA+B:\\n\", A+B)\n",
        "print(\"\\nTranspose B:\\n\", B.transpose())\n",
        "print(\"\\nShape of transpose(B):\", B.T.shape)\n",
        "print(\"\\nMatrix multiplication of A and transpose(B):\\n\", np.matmul(A, B.transpose()))\n",
        "\n",
        "C = np.matmul(A, B.transpose())\n",
        "print(\"\\n Invert AB:\", np.linalg.inv(C))"
      ],
      "execution_count": null,
      "outputs": [
        {
          "output_type": "stream",
          "name": "stdout",
          "text": [
            "Matrix A:\n",
            " [[3 4 1 2]\n",
            " [9 3 9 4]\n",
            " [1 5 5 1]]\n",
            "\n",
            "Matrix B:\n",
            " [[0 1 9 8]\n",
            " [2 3 1 2]\n",
            " [3 3 1 7]]\n",
            "\n",
            "A+B:\n",
            " [[ 3  5 10 10]\n",
            " [11  6 10  6]\n",
            " [ 4  8  6  8]]\n",
            "\n",
            "Transpose B:\n",
            " [[0 2 3]\n",
            " [1 3 3]\n",
            " [9 1 1]\n",
            " [8 2 7]]\n",
            "\n",
            "Shape of transpose(B): (4, 3)\n",
            "\n",
            "Matrix multiplication of A and transpose(B):\n",
            " [[ 29  23  36]\n",
            " [116  44  73]\n",
            " [ 58  24  30]]\n",
            "\n",
            " Invert AB: [[-0.03281179  0.01321586  0.00721556]\n",
            " [ 0.05726872 -0.09251101  0.15638767]\n",
            " [ 0.01762115  0.04845815 -0.10572687]]\n"
          ]
        }
      ]
    },
    {
      "cell_type": "markdown",
      "metadata": {
        "id": "Rpv3nDTaVLbt"
      },
      "source": [
        "# Exercises\n",
        "\n",
        "\n",
        "1. Create a 2D array with 1 on the border and 0 inside.\n",
        "\n",
        "2. Normalize a 5 x 5 random matrix.\n",
        "\n",
        "3. Given a 1D array, negate all elements which are between 2 and 9 inclusive, in place.\n",
        "\n",
        "4. How to get the alternates dates corresponding to the month of June 2021?\n",
        "\n",
        "5. Create a vector of size 10 with values ranging from 0 to 1, both excluded.\n",
        "\n",
        "6. Find the nearest value from a given value in an array."
      ]
    },
    {
      "cell_type": "code",
      "metadata": {
        "id": "iI4Ti9kMIQPF"
      },
      "source": [
        "# 1. Create a 2D array with 1 on the border and 0 inside.\n",
        "X = np.ones((5, 5))\n",
        "X[1:-1, 1:-1] = 0\n",
        "print(\"1.\\n\", X, \"\\n\")\n",
        "\n",
        "# 2. Normalize a 5 x 5 random matrix.\n",
        "X = np.random.random((5, 5))\n",
        "X_mean = np.mean(X)\n",
        "X_std = np.std(X)\n",
        "X_norm = (X - X_mean) / X_std\n",
        "print(\"2.\\n\", X_norm, \"\\n\")\n",
        "\n",
        "# 3. Given a 1D array, negate all elements which are between 2 and 9 inclusive, in place.\n",
        "X = np.arange(11)\n",
        "mask = (2 <= X) & (X <= 9)\n",
        "X[mask] *= -1\n",
        "print(\"3.\\n\", X, \"\\n\")\n",
        "\n",
        "# 4. How to get the alternates dates corresponding to the month of June 2021?\n",
        "X = np.arange('2021-06', '2021-07', 2, dtype='datetime64[D]')\n",
        "print(\"4.\\n\", X, \"\\n\")\n",
        "\n",
        "# 5. Create a vector of size 10 with values ranging from 0 to 1, both excluded.\n",
        "X = np.linspace(0, 1, 12)[1:-1]\n",
        "print(\"5.\\n\", X, \"\\n\")\n",
        "\n",
        "# 6. Find the nearest value from a given value in an array.\n",
        "X = np.random.rand(10)\n",
        "val = 0.75\n",
        "nearest = X[np.abs(X - val).argmin()]\n",
        "print(\"6.\\n\", nearest, \"\\n\")"
      ],
      "execution_count": null,
      "outputs": []
    },
    {
      "cell_type": "markdown",
      "source": [
        "## References:\n",
        "* This content has been adopted from tutorials of [UMLSC 2021](https://djunicode.github.io/umlsc-2021/schedule/) and the book '[Computational and Inferential Thinking: The Foundations of Data Science](https://inferentialthinking.com/chapters/intro.html)'"
      ],
      "metadata": {
        "id": "4cQwTGVBhMbf"
      }
    }
  ]
}