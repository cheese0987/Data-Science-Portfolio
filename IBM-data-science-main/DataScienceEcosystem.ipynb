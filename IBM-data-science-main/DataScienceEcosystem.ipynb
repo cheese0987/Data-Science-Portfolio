{
  "nbformat": 4,
  "nbformat_minor": 0,
  "metadata": {
    "colab": {
      "provenance": []
    },
    "kernelspec": {
      "name": "python3",
      "display_name": "Python 3"
    },
    "language_info": {
      "name": "python"
    }
  },
  "cells": [
    {
      "cell_type": "markdown",
      "source": [
        "\n",
        "# Data Science Tools and Ecosystem\n",
        "\n"
      ],
      "metadata": {
        "id": "tMAWlabcBTGq"
      }
    },
    {
      "cell_type": "markdown",
      "source": [
        "In this notebook, Data Science Tools and Ecosystem are summarized.\n",
        "Some of the popular languages that Data Scientists use are:\n",
        "\n",
        "Data Scientists use a variety of languages, but some of the most popular ones include:\n",
        "\n",
        "1. **Python**: Widely used for data science due to its simplicity and readability, with libraries like NumPy, Pandas, Matplotlib, and scikit-learn that make it well-suited for data manipulation, analysis, and machine learning.\n",
        "\n",
        "2. **R**: Particularly popular in academia and among statisticians, R is known for its powerful data visualization capabilities and extensive collection of statistical and graphical methods.\n",
        "\n",
        "3. **SQL**: While not a programming language in the traditional sense, SQL (Structured Query Language) is essential for accessing, managing, and manipulating data stored in relational databases, which is common in data science workflows.\n",
        "\n",
        "4. **Java**: Although not as commonly used as Python or R in data science, Java is still popular for building large-scale, enterprise-level applications that require robustness and scalability.\n",
        "\n",
        "5. **Scala**: Often used in conjunction with Apache Spark, Scala is a functional programming language that runs on the Java Virtual Machine (JVM) and is well-suited for distributed computing and big data processing.\n",
        "\n",
        "6. **Julia**: A newer language gaining popularity in the data science community due to its speed and ease of use for numerical and scientific computing tasks.\n",
        "\n",
        "7. **MATLAB**: While more commonly used in engineering and scientific research, MATLAB is also used in data science for its powerful mathematical functions and toolboxes.\n",
        "\n",
        "Each of these languages has its strengths and weaknesses, and the choice of language often depends on the specific requirements of the data science project and the preferences of the data scientist.\n",
        "Some of the commonly used libraries used by Data Scientists include:\n",
        "\n",
        "1. **NumPy**: For numerical computing in Python, providing support for large, multi-dimensional arrays and matrices, along with a collection of mathematical functions to operate on these arrays.\n",
        "\n",
        "2. **Pandas**: For data manipulation and analysis, offering data structures like DataFrame and Series, along with tools for reading and writing data between in-memory data structures and different file formats.\n",
        "\n",
        "3. **Matplotlib**: For creating static, animated, and interactive visualizations in Python, providing a MATLAB-like interface for plotting.\n",
        "\n",
        "4. **Seaborn**: Built on top of Matplotlib, Seaborn provides a high-level interface for drawing attractive and informative statistical graphics.\n",
        "\n",
        "5. **Scikit-learn**: For machine learning in Python, offering simple and efficient tools for data mining and data analysis, built on NumPy, SciPy, and matplotlib.\n",
        "\n",
        "6. **TensorFlow**: An open-source deep learning library developed by Google for building and training neural network models, offering tools for both research and production.\n",
        "\n",
        "7. **Keras**: A high-level neural networks API, written in Python and capable of running on top of TensorFlow, CNTK, or Theano, designed to enable fast experimentation with deep neural networks.\n",
        "\n",
        "8. **PyTorch**: An open-source machine learning library developed by Facebook, known for its flexibility and ease of use, particularly in building and training deep learning models.\n",
        "\n",
        "9. **SciPy**: A library used for scientific and technical computing, providing functions for optimization, integration, interpolation, linear algebra, and statistics.\n",
        "\n",
        "10. **Statsmodels**: A library for estimating and interpreting statistical models, including linear regression, generalized linear models, and robust linear models.\n",
        "\n",
        "These libraries are widely used in the data science community and form the backbone of many data analysis and machine learning projects."
      ],
      "metadata": {
        "id": "P7wmSUs5B25o"
      }
    },
    {
      "cell_type": "markdown",
      "source": [
        "Here's a markdown cell with a table of Data Science tools:\n",
        "\n",
        "| Data Science Tools    |\n",
        "|-----------------------|\n",
        "| Jupyter Notebook       |\n",
        "| RStudio                |\n",
        "| Apache Zeppelin        |"
      ],
      "metadata": {
        "id": "8uU2R6f3EdWJ"
      }
    },
    {
      "cell_type": "markdown",
      "source": [
        "### Below are a few examples of evaluating arithmetic expressions in Python."
      ],
      "metadata": {
        "id": "NRsMbcYIEm8-"
      }
    },
    {
      "cell_type": "code",
      "source": [
        "# This is a simple arithmetic expression to multiply then add integers.\n",
        "result = (3 * 4) + 5\n",
        "result\n"
      ],
      "metadata": {
        "colab": {
          "base_uri": "https://localhost:8080/"
        },
        "id": "9zMFGTfjEvJs",
        "outputId": "23f7592c-98d6-4c09-c410-4c366079b1df"
      },
      "execution_count": 1,
      "outputs": [
        {
          "output_type": "execute_result",
          "data": {
            "text/plain": [
              "17"
            ]
          },
          "metadata": {},
          "execution_count": 1
        }
      ]
    },
    {
      "cell_type": "code",
      "source": [
        "# This will convert 200 minutes to hours by dividing by 60.\n",
        "hours = 200 / 60\n",
        "hours\n"
      ],
      "metadata": {
        "id": "sOiujUAoE8cW"
      },
      "execution_count": null,
      "outputs": []
    },
    {
      "cell_type": "markdown",
      "source": [
        "**Objectives:**\n",
        "\n",
        "- List popular languages for Data Science.\n",
        "- Introduce common libraries used by Data Scientists.\n",
        "- Demonstrate basic arithmetic operations in Python.\n",
        "- Convert minutes to hours using Python.\n"
      ],
      "metadata": {
        "id": "AEYI37XCFFzY"
      }
    },
    {
      "cell_type": "markdown",
      "source": [
        "## Author\n",
        "Linh\n"
      ],
      "metadata": {
        "id": "qPStgK4qEnwO"
      }
    }
  ]
}